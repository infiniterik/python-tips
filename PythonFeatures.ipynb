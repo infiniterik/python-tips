{
  "cells": [
    {
      "cell_type": "markdown",
      "metadata": {
        "colab_type": "text",
        "id": "view-in-github"
      },
      "source": [
        "<a href=\"https://colab.research.google.com/github/infiniterik/python-tips/blob/main/PythonFeatures.ipynb\" target=\"_parent\"><img src=\"https://colab.research.google.com/assets/colab-badge.svg\" alt=\"Open In Colab\"/></a>"
      ]
    },
    {
      "cell_type": "markdown",
      "metadata": {
        "id": "W_c9kGib7MkI"
      },
      "source": [
        "# Basics of python notebooks"
      ]
    },
    {
      "cell_type": "markdown",
      "metadata": {
        "id": "i0q5aeKB9Ki1"
      },
      "source": [
        "## Output\n",
        "By default, a notebook cell will output the last value it recieves."
      ]
    },
    {
      "cell_type": "code",
      "execution_count": 1,
      "metadata": {
        "colab": {
          "base_uri": "https://localhost:8080/",
          "height": 295
        },
        "id": "nYS_v6hL7Uex",
        "outputId": "5f367543-2476-49c4-a1b3-392821c542d3"
      },
      "outputs": [
        {
          "data": {
            "application/vnd.google.colaboratory.intrinsic+json": {
              "type": "string"
            },
            "text/plain": [
              "'Hello, world'"
            ]
          },
          "execution_count": 1,
          "metadata": {},
          "output_type": "execute_result"
        }
      ],
      "source": [
        "'Hello, world'"
      ]
    },
    {
      "cell_type": "markdown",
      "metadata": {
        "id": "2pHnWDfK7n9O"
      },
      "source": [
        "It will also perform out any explicit print statements."
      ]
    },
    {
      "cell_type": "code",
      "execution_count": 2,
      "metadata": {
        "colab": {
          "base_uri": "https://localhost:8080/",
          "height": 193
        },
        "id": "7SSXt17x7nNW",
        "outputId": "adfc3af3-3e50-4596-fb95-4a9dd7894191"
      },
      "outputs": [
        {
          "name": "stdout",
          "output_type": "stream",
          "text": [
            "Hello\n"
          ]
        },
        {
          "data": {
            "application/vnd.google.colaboratory.intrinsic+json": {
              "type": "string"
            },
            "text/plain": [
              "'world'"
            ]
          },
          "execution_count": 2,
          "metadata": {},
          "output_type": "execute_result"
        }
      ],
      "source": [
        "print('Hello')\n",
        "'world' # Note that 'hello' doesn't have quotes, but 'world' does"
      ]
    },
    {
      "cell_type": "markdown",
      "metadata": {
        "id": "DvGq6h_T8Wts"
      },
      "source": [
        "If your code generates an image as the last line of the cell or explicitly displays an image, it will also show that."
      ]
    },
    {
      "cell_type": "code",
      "execution_count": 3,
      "metadata": {
        "colab": {
          "base_uri": "https://localhost:8080/",
          "height": 113
        },
        "id": "VUStIoyb8MTE",
        "outputId": "107bc284-9eac-4c32-b7da-f1ddce07cf98"
      },
      "outputs": [
        {
          "data": {
            "text/html": [
              "<img src=\"https://www.knox.edu/images/Offices/Communications/KnoxLogo/Knoxhorizpurple.jpg\"/>"
            ],
            "text/plain": [
              "<IPython.core.display.Image object>"
            ]
          },
          "execution_count": 3,
          "metadata": {},
          "output_type": "execute_result"
        }
      ],
      "source": [
        "from IPython.display import Image\n",
        "Image(url= \"https://www.knox.edu/images/Offices/Communications/KnoxLogo/Knoxhorizpurple.jpg\")"
      ]
    },
    {
      "cell_type": "markdown",
      "metadata": {
        "id": "3pghoSsG8zJu"
      },
      "source": [
        "There are many libraries that provide \"widgets\" for python notebooks. One such library is `matplotlib` which can generate graphs and charts on the fly."
      ]
    },
    {
      "cell_type": "markdown",
      "metadata": {
        "id": "0iJQ4gfV9IYq"
      },
      "source": []
    },
    {
      "cell_type": "markdown",
      "metadata": {
        "id": "sW8dcchAkp2X"
      },
      "source": [
        "## Installing and Importing Libraries"
      ]
    },
    {
      "cell_type": "code",
      "execution_count": 4,
      "metadata": {
        "colab": {
          "base_uri": "https://localhost:8080/"
        },
        "id": "rh5pL49tkyud",
        "outputId": "e4dc9a6a-5449-4c92-ce79-0acedb256747"
      },
      "outputs": [
        {
          "name": "stdout",
          "output_type": "stream",
          "text": [
            "Collecting datasets\n",
            "  Downloading datasets-1.18.3-py3-none-any.whl (311 kB)\n",
            "\u001b[K     |████████████████████████████████| 311 kB 22.5 MB/s \n",
            "\u001b[?25hCollecting transformers\n",
            "  Downloading transformers-4.16.2-py3-none-any.whl (3.5 MB)\n",
            "\u001b[K     |████████████████████████████████| 3.5 MB 40.0 MB/s \n",
            "\u001b[?25hRequirement already satisfied: importlib-metadata in /usr/local/lib/python3.7/dist-packages (from datasets) (4.10.1)\n",
            "Requirement already satisfied: multiprocess in /usr/local/lib/python3.7/dist-packages (from datasets) (0.70.12.2)\n",
            "Requirement already satisfied: numpy>=1.17 in /usr/local/lib/python3.7/dist-packages (from datasets) (1.19.5)\n",
            "Requirement already satisfied: pyarrow!=4.0.0,>=3.0.0 in /usr/local/lib/python3.7/dist-packages (from datasets) (3.0.0)\n",
            "Collecting xxhash\n",
            "  Downloading xxhash-2.0.2-cp37-cp37m-manylinux2010_x86_64.whl (243 kB)\n",
            "\u001b[K     |████████████████████████████████| 243 kB 21.6 MB/s \n",
            "\u001b[?25hCollecting fsspec[http]>=2021.05.0\n",
            "  Downloading fsspec-2022.1.0-py3-none-any.whl (133 kB)\n",
            "\u001b[K     |████████████████████████████████| 133 kB 6.3 MB/s \n",
            "\u001b[?25hRequirement already satisfied: pandas in /usr/local/lib/python3.7/dist-packages (from datasets) (1.3.5)\n",
            "Requirement already satisfied: dill in /usr/local/lib/python3.7/dist-packages (from datasets) (0.3.4)\n",
            "Requirement already satisfied: requests>=2.19.0 in /usr/local/lib/python3.7/dist-packages (from datasets) (2.23.0)\n",
            "Collecting aiohttp\n",
            "  Downloading aiohttp-3.8.1-cp37-cp37m-manylinux_2_5_x86_64.manylinux1_x86_64.manylinux_2_12_x86_64.manylinux2010_x86_64.whl (1.1 MB)\n",
            "\u001b[K     |████████████████████████████████| 1.1 MB 20.8 MB/s \n",
            "\u001b[?25hRequirement already satisfied: packaging in /usr/local/lib/python3.7/dist-packages (from datasets) (21.3)\n",
            "Requirement already satisfied: tqdm>=4.62.1 in /usr/local/lib/python3.7/dist-packages (from datasets) (4.62.3)\n",
            "Collecting huggingface-hub<1.0.0,>=0.1.0\n",
            "  Downloading huggingface_hub-0.4.0-py3-none-any.whl (67 kB)\n",
            "\u001b[K     |████████████████████████████████| 67 kB 4.4 MB/s \n",
            "\u001b[?25hRequirement already satisfied: filelock in /usr/local/lib/python3.7/dist-packages (from huggingface-hub<1.0.0,>=0.1.0->datasets) (3.4.2)\n",
            "Requirement already satisfied: pyyaml in /usr/local/lib/python3.7/dist-packages (from huggingface-hub<1.0.0,>=0.1.0->datasets) (3.13)\n",
            "Requirement already satisfied: typing-extensions>=3.7.4.3 in /usr/local/lib/python3.7/dist-packages (from huggingface-hub<1.0.0,>=0.1.0->datasets) (3.10.0.2)\n",
            "Requirement already satisfied: pyparsing!=3.0.5,>=2.0.2 in /usr/local/lib/python3.7/dist-packages (from packaging->datasets) (3.0.7)\n",
            "Requirement already satisfied: chardet<4,>=3.0.2 in /usr/local/lib/python3.7/dist-packages (from requests>=2.19.0->datasets) (3.0.4)\n",
            "Requirement already satisfied: urllib3!=1.25.0,!=1.25.1,<1.26,>=1.21.1 in /usr/local/lib/python3.7/dist-packages (from requests>=2.19.0->datasets) (1.24.3)\n",
            "Requirement already satisfied: certifi>=2017.4.17 in /usr/local/lib/python3.7/dist-packages (from requests>=2.19.0->datasets) (2021.10.8)\n",
            "Requirement already satisfied: idna<3,>=2.5 in /usr/local/lib/python3.7/dist-packages (from requests>=2.19.0->datasets) (2.10)\n",
            "Collecting sacremoses\n",
            "  Downloading sacremoses-0.0.47-py2.py3-none-any.whl (895 kB)\n",
            "\u001b[K     |████████████████████████████████| 895 kB 14.3 MB/s \n",
            "\u001b[?25hCollecting pyyaml\n",
            "  Downloading PyYAML-6.0-cp37-cp37m-manylinux_2_5_x86_64.manylinux1_x86_64.manylinux_2_12_x86_64.manylinux2010_x86_64.whl (596 kB)\n",
            "\u001b[K     |████████████████████████████████| 596 kB 45.8 MB/s \n",
            "\u001b[?25hCollecting tokenizers!=0.11.3,>=0.10.1\n",
            "  Downloading tokenizers-0.11.4-cp37-cp37m-manylinux_2_12_x86_64.manylinux2010_x86_64.whl (6.8 MB)\n",
            "\u001b[K     |████████████████████████████████| 6.8 MB 37.0 MB/s \n",
            "\u001b[?25hRequirement already satisfied: regex!=2019.12.17 in /usr/local/lib/python3.7/dist-packages (from transformers) (2019.12.20)\n",
            "Collecting aiosignal>=1.1.2\n",
            "  Downloading aiosignal-1.2.0-py3-none-any.whl (8.2 kB)\n",
            "Collecting yarl<2.0,>=1.0\n",
            "  Downloading yarl-1.7.2-cp37-cp37m-manylinux_2_5_x86_64.manylinux1_x86_64.manylinux_2_12_x86_64.manylinux2010_x86_64.whl (271 kB)\n",
            "\u001b[K     |████████████████████████████████| 271 kB 54.4 MB/s \n",
            "\u001b[?25hRequirement already satisfied: attrs>=17.3.0 in /usr/local/lib/python3.7/dist-packages (from aiohttp->datasets) (21.4.0)\n",
            "Collecting async-timeout<5.0,>=4.0.0a3\n",
            "  Downloading async_timeout-4.0.2-py3-none-any.whl (5.8 kB)\n",
            "Collecting asynctest==0.13.0\n",
            "  Downloading asynctest-0.13.0-py3-none-any.whl (26 kB)\n",
            "Collecting multidict<7.0,>=4.5\n",
            "  Downloading multidict-6.0.2-cp37-cp37m-manylinux_2_17_x86_64.manylinux2014_x86_64.whl (94 kB)\n",
            "\u001b[K     |████████████████████████████████| 94 kB 2.7 MB/s \n",
            "\u001b[?25hRequirement already satisfied: charset-normalizer<3.0,>=2.0 in /usr/local/lib/python3.7/dist-packages (from aiohttp->datasets) (2.0.11)\n",
            "Collecting frozenlist>=1.1.1\n",
            "  Downloading frozenlist-1.3.0-cp37-cp37m-manylinux_2_5_x86_64.manylinux1_x86_64.manylinux_2_17_x86_64.manylinux2014_x86_64.whl (144 kB)\n",
            "\u001b[K     |████████████████████████████████| 144 kB 63.4 MB/s \n",
            "\u001b[?25hRequirement already satisfied: zipp>=0.5 in /usr/local/lib/python3.7/dist-packages (from importlib-metadata->datasets) (3.7.0)\n",
            "Requirement already satisfied: python-dateutil>=2.7.3 in /usr/local/lib/python3.7/dist-packages (from pandas->datasets) (2.8.2)\n",
            "Requirement already satisfied: pytz>=2017.3 in /usr/local/lib/python3.7/dist-packages (from pandas->datasets) (2018.9)\n",
            "Requirement already satisfied: six>=1.5 in /usr/local/lib/python3.7/dist-packages (from python-dateutil>=2.7.3->pandas->datasets) (1.15.0)\n",
            "Requirement already satisfied: joblib in /usr/local/lib/python3.7/dist-packages (from sacremoses->transformers) (1.1.0)\n",
            "Requirement already satisfied: click in /usr/local/lib/python3.7/dist-packages (from sacremoses->transformers) (7.1.2)\n",
            "Installing collected packages: multidict, frozenlist, yarl, asynctest, async-timeout, aiosignal, pyyaml, fsspec, aiohttp, xxhash, tokenizers, sacremoses, huggingface-hub, transformers, datasets\n",
            "  Attempting uninstall: pyyaml\n",
            "    Found existing installation: PyYAML 3.13\n",
            "    Uninstalling PyYAML-3.13:\n",
            "      Successfully uninstalled PyYAML-3.13\n",
            "Successfully installed aiohttp-3.8.1 aiosignal-1.2.0 async-timeout-4.0.2 asynctest-0.13.0 datasets-1.18.3 frozenlist-1.3.0 fsspec-2022.1.0 huggingface-hub-0.4.0 multidict-6.0.2 pyyaml-6.0 sacremoses-0.0.47 tokenizers-0.11.4 transformers-4.16.2 xxhash-2.0.2 yarl-1.7.2\n"
          ]
        }
      ],
      "source": [
        "# Install libraries from the pypi repository\n",
        "!pip install sklearn"
      ]
    },
    {
      "cell_type": "code",
      "execution_count": 5,
      "metadata": {
        "id": "by9-H4I1lB3E"
      },
      "outputs": [],
      "source": [
        "# Import a library\n",
        "import nltk # Some libraries are pre-installed in the Colab environment\n",
        "\n",
        "# Import just part of a library\n",
        "from nltk import corpus\n",
        "from nltk.corpus import wordnet\n",
        "\n",
        "# You can also rename an import using the \"as\" keyword\n",
        "from nltk.corpus import wordnet as wn"
      ]
    },
    {
      "cell_type": "markdown",
      "metadata": {
        "id": "m0ZpCfKP9Tad"
      },
      "source": [
        "## Out-of-order execution\n",
        "Cells can be executed in any order. imports, variables, and functions all persist across cell executions. This can be useful for trying things out quickly - for example, if your code from a particular cell crashes, you can fix that cell and continue running. However, this means that you can lose track of the _state_ of your code. For example, if you ran the following three cells:"
      ]
    },
    {
      "cell_type": "code",
      "execution_count": 6,
      "metadata": {
        "id": "2UTp91d59-X4"
      },
      "outputs": [],
      "source": [
        "# A\n",
        "mutation = 3"
      ]
    },
    {
      "cell_type": "code",
      "execution_count": 7,
      "metadata": {
        "id": "oRfIFx_c-CSV"
      },
      "outputs": [],
      "source": [
        "# B\n",
        "mutation += 1"
      ]
    },
    {
      "cell_type": "code",
      "execution_count": 8,
      "metadata": {
        "colab": {
          "base_uri": "https://localhost:8080/"
        },
        "id": "p1qIO3DK-GmE",
        "outputId": "dea0f077-1658-4d19-e007-35e66ef57e08"
      },
      "outputs": [
        {
          "data": {
            "text/plain": [
              "4"
            ]
          },
          "execution_count": 8,
          "metadata": {},
          "output_type": "execute_result"
        }
      ],
      "source": [
        "# C\n",
        "mutation"
      ]
    },
    {
      "cell_type": "markdown",
      "metadata": {
        "id": "Ek8nCiSi-OPi"
      },
      "source": [
        "You would get a different result if you ran `A->B->B-C` than if you just ran `A->B->C`. Unless you reset the entire notebook, the variable `mutation` will continue to exist after you run `A`.\n",
        "\n",
        "Since notebooks naturally encourage exploration, you might find yourself creating a cell to 'try out' a line of code only to delete it when you are done. Keep in mind that anything that you do in those cells may have a continuing impact after the cell is closed. It is a good idea to ensure that you can rerun your entire notebook by going to `Runtime->Restart and run all`."
      ]
    },
    {
      "cell_type": "markdown",
      "metadata": {
        "id": "VhR73Y0ywhG0"
      },
      "source": [
        "# String Formatting\n",
        "\n",
        "Most standard/library types in Python print out a useful representation when directly passed to the `print(...)` function. For example:"
      ]
    },
    {
      "cell_type": "code",
      "execution_count": 9,
      "metadata": {
        "colab": {
          "base_uri": "https://localhost:8080/"
        },
        "id": "6OIVh-W_yc_X",
        "outputId": "fb475b9e-0eb6-4558-b881-bba7a7e0684a"
      },
      "outputs": [
        {
          "name": "stdout",
          "output_type": "stream",
          "text": [
            "[1, 2, 3]\n"
          ]
        }
      ],
      "source": [
        "print([1,2,3])"
      ]
    },
    {
      "cell_type": "markdown",
      "metadata": {
        "id": "JkgRBNJVyfxB"
      },
      "source": [
        "You can also print multiple things in one line, such as a string and another object:"
      ]
    },
    {
      "cell_type": "code",
      "execution_count": 10,
      "metadata": {
        "colab": {
          "base_uri": "https://localhost:8080/"
        },
        "id": "NN7uGM6gywGk",
        "outputId": "a2c0ccef-83ff-4c87-eaf6-edb18dc60e8d"
      },
      "outputs": [
        {
          "name": "stdout",
          "output_type": "stream",
          "text": [
            "My list is [1, 2, 3]\n"
          ]
        }
      ],
      "source": [
        "print(\"My list is\", [1,2,3])"
      ]
    },
    {
      "cell_type": "markdown",
      "metadata": {
        "id": "zpxiX6UJy3VI"
      },
      "source": [
        "Sometimes, you may want to create more complex formatted strings for more readable output. One way to do this is using f-strings\n",
        "\n"
      ]
    },
    {
      "cell_type": "code",
      "execution_count": 11,
      "metadata": {
        "colab": {
          "base_uri": "https://localhost:8080/"
        },
        "id": "2Foznap4zpyc",
        "outputId": "cfaed85d-5c4d-45b0-a385-d9d8e9c9ae14"
      },
      "outputs": [
        {
          "name": "stdout",
          "output_type": "stream",
          "text": [
            "Hello, World\n",
            "You can evaluate expressions in f-strings, too: 1, 15\n",
            "Even call functions: 5\n"
          ]
        }
      ],
      "source": [
        "name = \"World\"\n",
        "print(f'Hello, {name}')\n",
        "\n",
        "print(f'You can evaluate expressions in f-strings, too: {1}, {3*5}')\n",
        "print(f\"Even call functions: {len(name)}\")"
      ]
    },
    {
      "cell_type": "markdown",
      "metadata": {
        "id": "QdAMWRkszhwJ"
      },
      "source": [
        "This replaces each instance of `{}` in your f-string with the formatted expression inside the `{}`. You can provide more complex directives inside the `{}`. Formatting can get quite complicated, but there are a few particularly useful pieces of syntax.\n",
        "\n",
        "The data type allows you to make conversions, for example, between `int` and `char` types:"
      ]
    },
    {
      "cell_type": "code",
      "execution_count": 12,
      "metadata": {
        "colab": {
          "base_uri": "https://localhost:8080/"
        },
        "id": "3h_oUxxi0uEY",
        "outputId": "fed935f8-c6bb-48f9-dd4d-bdc9dde0840c"
      },
      "outputs": [
        {
          "name": "stdout",
          "output_type": "stream",
          "text": [
            "D\n",
            "68.000000\n"
          ]
        }
      ],
      "source": [
        "print(f'{68:c}') # convert an int to a char\n",
        "print(f'{68:f}') # convert an int to a float"
      ]
    },
    {
      "cell_type": "markdown",
      "metadata": {
        "id": "DrpjVyVL2elX"
      },
      "source": [
        "You can also truncate or pad your outputs to fit nicely:"
      ]
    },
    {
      "cell_type": "code",
      "execution_count": 13,
      "metadata": {
        "colab": {
          "base_uri": "https://localhost:8080/"
        },
        "id": "54BsG2DG2kcd",
        "outputId": "5a92f953-4f97-4bde-8183-e8b3c0740d4c"
      },
      "outputs": [
        {
          "name": "stdout",
          "output_type": "stream",
          "text": [
            "0.33\n",
            "{1:0>2d}\n",
            "00 aligned\n",
            "01 aligned\n",
            "02 aligned\n",
            "03 aligned\n",
            "04 aligned\n",
            "05 aligned\n",
            "06 aligned\n",
            "07 aligned\n",
            "08 aligned\n",
            "09 aligned\n",
            "10 aligned\n",
            "11 aligned\n"
          ]
        }
      ],
      "source": [
        "print(f'{1/3:.2f}') # limit to 2 decimal places\n",
        "print('{1:0>2d}')  # or pad with a character\n",
        "\n",
        "for i in range(12):\n",
        "  print(f'{i:0>2d} aligned') # keep outputs aligned for easy reading"
      ]
    },
    {
      "cell_type": "markdown",
      "metadata": {
        "id": "k287EYZy5ON8"
      },
      "source": [
        "### How to translate instructions regarding `.format()` to f-strings\n",
        "f-strings are relatively new, so a lot of guides refer to `.format()` instead. You can use most of the formatting directives from `.format()` in f-strings. You can translate `'{:.2f}'.format(num)` to an f-string by moving the variable name into the `{}`-expression: `f'{num:.2f}'` generates the same string."
      ]
    },
    {
      "cell_type": "markdown",
      "metadata": {
        "id": "1onAJoDh5KL3"
      },
      "source": [
        "# Basic iteration and Destructuring"
      ]
    },
    {
      "cell_type": "markdown",
      "metadata": {
        "id": "mS0udbttwQu5"
      },
      "source": [
        "## `range()`"
      ]
    },
    {
      "cell_type": "code",
      "execution_count": 14,
      "metadata": {
        "colab": {
          "base_uri": "https://localhost:8080/"
        },
        "id": "iEn9lBoClx6Y",
        "outputId": "27c055a8-9c0a-443f-f104-a6f89ebb2292"
      },
      "outputs": [
        {
          "name": "stdout",
          "output_type": "stream",
          "text": [
            "hello\n",
            "world\n",
            "!\n"
          ]
        }
      ],
      "source": [
        "# The basic for loop uses range() in python\n",
        "lst = [\"hello\", \"world\", \"!\"]\n",
        "\n",
        "for i in range(len(lst)):\n",
        "  print(lst[i])"
      ]
    },
    {
      "cell_type": "markdown",
      "metadata": {
        "id": "jdNfMGWRvATt"
      },
      "source": [
        "`range(n)` actually creates an iterable which has each of the numbers from `0` to `n`. `range()` can take 1, 2, or 3 arguments with varying results"
      ]
    },
    {
      "cell_type": "code",
      "execution_count": 15,
      "metadata": {
        "colab": {
          "base_uri": "https://localhost:8080/"
        },
        "id": "-Xw8DmKjvF-5",
        "outputId": "0a3b8111-2812-4e3a-8b4e-2306ac91f6a3"
      },
      "outputs": [
        {
          "name": "stdout",
          "output_type": "stream",
          "text": [
            "0\n",
            "1\n",
            "2\n",
            "3\n",
            "4\n"
          ]
        }
      ],
      "source": [
        "for i in range(5):\n",
        "  print(i)"
      ]
    },
    {
      "cell_type": "code",
      "execution_count": 16,
      "metadata": {
        "colab": {
          "base_uri": "https://localhost:8080/"
        },
        "id": "h-2uQTL0v3uo",
        "outputId": "c25ea5da-f3c9-401c-a79a-b4f9b1a82d28"
      },
      "outputs": [
        {
          "name": "stdout",
          "output_type": "stream",
          "text": [
            "3\n",
            "4\n"
          ]
        }
      ],
      "source": [
        "# take values between 3 and 5\n",
        "for i in range(3,5):\n",
        "  print(i)"
      ]
    },
    {
      "cell_type": "code",
      "execution_count": 17,
      "metadata": {
        "colab": {
          "base_uri": "https://localhost:8080/"
        },
        "id": "Ak7TNjfDwAq0",
        "outputId": "dde2f804-9df1-4e18-c2ab-c6f5c0e43990"
      },
      "outputs": [
        {
          "name": "stdout",
          "output_type": "stream",
          "text": [
            "0\n",
            "2\n",
            "4\n"
          ]
        }
      ],
      "source": [
        "# take every second value between 0 and 5\n",
        "for i in range(0,5,2):\n",
        "  print(i)"
      ]
    },
    {
      "cell_type": "code",
      "execution_count": 18,
      "metadata": {
        "colab": {
          "base_uri": "https://localhost:8080/"
        },
        "id": "0CP1x5FHmJTc",
        "outputId": "31af9b2d-3b67-4407-ff65-7330fa7c9938"
      },
      "outputs": [
        {
          "name": "stdout",
          "output_type": "stream",
          "text": [
            "hello\n",
            "world\n",
            "!\n"
          ]
        }
      ],
      "source": [
        "# you can iterate over any collection\n",
        "for i in lst:\n",
        "  print(i)"
      ]
    },
    {
      "cell_type": "markdown",
      "metadata": {
        "id": "vUSg03e4wUH0"
      },
      "source": [
        "## `enumerate()`"
      ]
    },
    {
      "cell_type": "code",
      "execution_count": 19,
      "metadata": {
        "colab": {
          "base_uri": "https://localhost:8080/"
        },
        "id": "RKExfAQemVj8",
        "outputId": "b67af9c9-b953-401e-bbfc-776ecbee0a0b"
      },
      "outputs": [
        {
          "name": "stdout",
          "output_type": "stream",
          "text": [
            "0 hello\n",
            "1 world\n",
            "2 !\n"
          ]
        }
      ],
      "source": [
        "# You can iterate over both keys and values\n",
        "\n",
        "for elements in enumerate(lst):\n",
        "  print(elements[0], elements[1])"
      ]
    },
    {
      "cell_type": "markdown",
      "metadata": {
        "id": "wccrK_eiwcb5"
      },
      "source": [
        "## Unpacking"
      ]
    },
    {
      "cell_type": "code",
      "execution_count": 20,
      "metadata": {
        "colab": {
          "base_uri": "https://localhost:8080/"
        },
        "id": "qfxrYUkWm7AJ",
        "outputId": "af5011de-920d-4897-c09f-80530bd01629"
      },
      "outputs": [
        {
          "name": "stdout",
          "output_type": "stream",
          "text": [
            "0 hello\n",
            "1 world\n",
            "2 !\n"
          ]
        }
      ],
      "source": [
        "# Or use \"unpacking\" to break up lists/tuples\n",
        "\n",
        "for index, value in enumerate(lst):\n",
        "  print(index, value)"
      ]
    },
    {
      "cell_type": "code",
      "execution_count": 21,
      "metadata": {
        "colab": {
          "base_uri": "https://localhost:8080/"
        },
        "id": "gUrh0myHnRIs",
        "outputId": "5abff6c3-253a-4179-fc9e-3f507631be23"
      },
      "outputs": [
        {
          "name": "stdout",
          "output_type": "stream",
          "text": [
            "1 2\n"
          ]
        }
      ],
      "source": [
        "# You can unpack in any assignment expression\n",
        "a, b = (1,2)\n",
        "print(a, b)"
      ]
    },
    {
      "cell_type": "markdown",
      "metadata": {
        "id": "ejhdtpSiqax7"
      },
      "source": [
        "# Lambdas\n",
        "\n",
        "Lambdas are a compact way to define a function inline."
      ]
    },
    {
      "cell_type": "code",
      "execution_count": 22,
      "metadata": {
        "colab": {
          "base_uri": "https://localhost:8080/"
        },
        "id": "Sx8EQVGr_pKE",
        "outputId": "a192f497-93be-43c8-d456-dad2aa605f9b"
      },
      "outputs": [
        {
          "data": {
            "text/plain": [
              "9"
            ]
          },
          "execution_count": 22,
          "metadata": {},
          "output_type": "execute_result"
        }
      ],
      "source": [
        "foo = lambda x: 3*x\n",
        "foo(3)"
      ]
    },
    {
      "cell_type": "markdown",
      "metadata": {
        "id": "Cs2_30cvAxkv"
      },
      "source": [
        "Lambdas can access global variables, but any variable and take 0 or more arguments, just like any other function."
      ]
    },
    {
      "cell_type": "code",
      "execution_count": 23,
      "metadata": {
        "colab": {
          "base_uri": "https://localhost:8080/"
        },
        "id": "vl_dqKVtAqDb",
        "outputId": "d0baa79d-71d3-4fb4-d7e4-962273b4cf2d"
      },
      "outputs": [
        {
          "data": {
            "text/plain": [
              "3"
            ]
          },
          "execution_count": 23,
          "metadata": {},
          "output_type": "execute_result"
        }
      ],
      "source": [
        "g = 3\n",
        "bar = lambda : g\n",
        "bar()"
      ]
    },
    {
      "cell_type": "markdown",
      "metadata": {
        "id": "uYNArNcR_2j4"
      },
      "source": [
        "Lambdas can be particularly useful for small functions that you pass as an argument to other functions."
      ]
    },
    {
      "cell_type": "markdown",
      "metadata": {
        "id": "6LE9F7nIqOFH"
      },
      "source": [
        "# Collections"
      ]
    },
    {
      "cell_type": "markdown",
      "metadata": {
        "id": "aal5G0grwOxj"
      },
      "source": [
        "## Sets\n",
        "\n",
        "Python has a built-in `set` class which provides an unordered collection with constant-time membership checks. Sets remove duplicates."
      ]
    },
    {
      "cell_type": "code",
      "execution_count": 24,
      "metadata": {
        "colab": {
          "base_uri": "https://localhost:8080/"
        },
        "id": "jw0M2dbqwSRI",
        "outputId": "b2241c53-8645-419c-c4b9-b09ab486bddd"
      },
      "outputs": [
        {
          "data": {
            "text/plain": [
              "{1, 2, 3, 4, 5}"
            ]
          },
          "execution_count": 24,
          "metadata": {},
          "output_type": "execute_result"
        }
      ],
      "source": [
        "# Convert a list into a set\n",
        "set([1,2,3,3,4,5])"
      ]
    },
    {
      "cell_type": "markdown",
      "metadata": {
        "id": "LzJLVZfturUk"
      },
      "source": [
        "## Dictionaries\n",
        "\n",
        "Dictionaries store key/value pairs with constant time lookup for keys. Each key must be unique. If a repeat key is added, the original value is overwritten."
      ]
    },
    {
      "cell_type": "markdown",
      "metadata": {
        "id": "V9DlI6QAkX7R"
      },
      "source": [
        "### Creating a dictionary"
      ]
    },
    {
      "cell_type": "code",
      "execution_count": 25,
      "metadata": {
        "id": "oJAYbsB3t2ab"
      },
      "outputs": [],
      "source": [
        "d = {'a': 1, 'c' : 2}"
      ]
    },
    {
      "cell_type": "markdown",
      "metadata": {
        "id": "4CE6CigjkfSB"
      },
      "source": [
        "Positional arguments are automatically converted to strings"
      ]
    },
    {
      "cell_type": "code",
      "execution_count": 26,
      "metadata": {
        "id": "shCQJ2QSknpo"
      },
      "outputs": [],
      "source": [
        "d2 = dict(a=1, c=2)"
      ]
    },
    {
      "cell_type": "markdown",
      "metadata": {
        "id": "6w9C7qm4kq2C"
      },
      "source": [
        "### Iterating over dictionaries\n",
        "\n",
        "You can iterate over just the keys in a dictionary"
      ]
    },
    {
      "cell_type": "code",
      "execution_count": 27,
      "metadata": {
        "colab": {
          "base_uri": "https://localhost:8080/"
        },
        "id": "30dTmETwjbac",
        "outputId": "43a650ec-dd1f-4d4f-d901-45ab79f116d6"
      },
      "outputs": [
        {
          "name": "stdout",
          "output_type": "stream",
          "text": [
            "a\n",
            "c\n"
          ]
        }
      ],
      "source": [
        "for k in d:\n",
        "  print(k)"
      ]
    },
    {
      "cell_type": "markdown",
      "metadata": {
        "id": "IMpJzK4lk2IL"
      },
      "source": [
        "Or, more explicitly"
      ]
    },
    {
      "cell_type": "code",
      "execution_count": 28,
      "metadata": {
        "colab": {
          "base_uri": "https://localhost:8080/"
        },
        "id": "hN4a6iVaj6g0",
        "outputId": "e69297af-f3a8-46af-a8e6-6bec1ec02aee"
      },
      "outputs": [
        {
          "name": "stdout",
          "output_type": "stream",
          "text": [
            "1\n",
            "2\n"
          ]
        }
      ],
      "source": [
        "for k in d.values():\n",
        "  print(k)"
      ]
    },
    {
      "cell_type": "markdown",
      "metadata": {
        "id": "6mJGmmenk7qL"
      },
      "source": [
        "Or just the values in a dictionary"
      ]
    },
    {
      "cell_type": "code",
      "execution_count": 29,
      "metadata": {
        "colab": {
          "base_uri": "https://localhost:8080/"
        },
        "id": "x0LkdBgsjhZ-",
        "outputId": "6e73d2b8-2ad2-435b-e691-d29c63891751"
      },
      "outputs": [
        {
          "name": "stdout",
          "output_type": "stream",
          "text": [
            "1\n",
            "2\n"
          ]
        }
      ],
      "source": [
        "for v in d.values():\n",
        "  print(v)"
      ]
    },
    {
      "cell_type": "markdown",
      "metadata": {
        "id": "l86GxeZJlCOH"
      },
      "source": [
        "Or both keys AND values simultaneously"
      ]
    },
    {
      "cell_type": "code",
      "execution_count": 30,
      "metadata": {
        "colab": {
          "base_uri": "https://localhost:8080/"
        },
        "id": "c45jHabxjtVE",
        "outputId": "ace6815e-82ba-4e7b-f009-91a18a700d13"
      },
      "outputs": [
        {
          "name": "stdout",
          "output_type": "stream",
          "text": [
            "a -> 1\n",
            "c -> 2\n"
          ]
        }
      ],
      "source": [
        "for k, v in d.items():\n",
        "  print(k, \"->\", v)"
      ]
    },
    {
      "cell_type": "markdown",
      "metadata": {
        "id": "U1aw1aK9lEun"
      },
      "source": [
        "### Notes about keys"
      ]
    },
    {
      "cell_type": "markdown",
      "metadata": {
        "id": "m0nL1fNslQ1D"
      },
      "source": [
        "Keys in dictionaries must have a `__hash__` function. This function should return an `int` with the constraint that any two items of a type that are equal should have the same hash value.\n",
        "\n",
        "If you try to add a key without a defined `__hash__` function, you will get an error:"
      ]
    },
    {
      "cell_type": "code",
      "execution_count": 31,
      "metadata": {
        "colab": {
          "base_uri": "https://localhost:8080/",
          "height": 164
        },
        "id": "oDfG7dpomEj-",
        "outputId": "45337508-1176-4c5c-8db0-bca03c4662da"
      },
      "outputs": [
        {
          "ename": "TypeError",
          "evalue": "ignored",
          "output_type": "error",
          "traceback": [
            "\u001b[0;31m---------------------------------------------------------------------------\u001b[0m",
            "\u001b[0;31mTypeError\u001b[0m                                 Traceback (most recent call last)",
            "\u001b[0;32m<ipython-input-31-4d6212cf9971>\u001b[0m in \u001b[0;36m<module>\u001b[0;34m()\u001b[0m\n\u001b[0;32m----> 1\u001b[0;31m \u001b[0md\u001b[0m\u001b[0;34m[\u001b[0m\u001b[0mset\u001b[0m\u001b[0;34m(\u001b[0m\u001b[0;34m)\u001b[0m\u001b[0;34m]\u001b[0m \u001b[0;34m=\u001b[0m \u001b[0;36m3\u001b[0m \u001b[0;31m# will not work\u001b[0m\u001b[0;34m\u001b[0m\u001b[0;34m\u001b[0m\u001b[0m\n\u001b[0m",
            "\u001b[0;31mTypeError\u001b[0m: unhashable type: 'set'"
          ]
        }
      ],
      "source": [
        "d[set()] = 3 # will not work"
      ]
    },
    {
      "cell_type": "markdown",
      "metadata": {
        "id": "BfP0N1mutTVl"
      },
      "source": [
        "A regular dictionary\n",
        "will raise a `KeyError` if you try to access a key that is not present:"
      ]
    },
    {
      "cell_type": "code",
      "execution_count": 32,
      "metadata": {
        "colab": {
          "base_uri": "https://localhost:8080/",
          "height": 164
        },
        "id": "pf5EOWhNmS0u",
        "outputId": "4819fe8e-d4e3-4e46-81d7-f7eaeffe357d"
      },
      "outputs": [
        {
          "ename": "KeyError",
          "evalue": "ignored",
          "output_type": "error",
          "traceback": [
            "\u001b[0;31m---------------------------------------------------------------------------\u001b[0m",
            "\u001b[0;31mKeyError\u001b[0m                                  Traceback (most recent call last)",
            "\u001b[0;32m<ipython-input-32-f07dc34b25ec>\u001b[0m in \u001b[0;36m<module>\u001b[0;34m()\u001b[0m\n\u001b[0;32m----> 1\u001b[0;31m \u001b[0md\u001b[0m\u001b[0;34m[\u001b[0m\u001b[0;34m'b'\u001b[0m\u001b[0;34m]\u001b[0m \u001b[0;31m# will not work\u001b[0m\u001b[0;34m\u001b[0m\u001b[0;34m\u001b[0m\u001b[0m\n\u001b[0m",
            "\u001b[0;31mKeyError\u001b[0m: 'b'"
          ]
        }
      ],
      "source": [
        "d['b'] # will not work"
      ]
    },
    {
      "cell_type": "markdown",
      "metadata": {
        "id": "jYtg93qGmXWl"
      },
      "source": [
        "The immediate solution is to wrap this in an if statement:"
      ]
    },
    {
      "cell_type": "code",
      "execution_count": 33,
      "metadata": {
        "colab": {
          "base_uri": "https://localhost:8080/"
        },
        "id": "6fX609tNt-fh",
        "outputId": "fd59188f-38d2-4e5b-9888-7778b0ddfe70"
      },
      "outputs": [
        {
          "name": "stdout",
          "output_type": "stream",
          "text": [
            "'b' not found\n"
          ]
        }
      ],
      "source": [
        "if 'b' in d:\n",
        "  print(d['b'])\n",
        "else:\n",
        "  print(\"'b' not found\")"
      ]
    },
    {
      "cell_type": "markdown",
      "metadata": {
        "id": "86qlZUUKuC8O"
      },
      "source": [
        "or use `.get()`\n"
      ]
    },
    {
      "cell_type": "code",
      "execution_count": 34,
      "metadata": {
        "colab": {
          "base_uri": "https://localhost:8080/"
        },
        "id": "VaDI1tPWtrBJ",
        "outputId": "8e0a037a-0ca8-46a1-d06c-03f93661c633"
      },
      "outputs": [
        {
          "data": {
            "text/plain": [
              "-1"
            ]
          },
          "execution_count": 34,
          "metadata": {},
          "output_type": "execute_result"
        }
      ],
      "source": [
        "d.get('b', -1) # the second argument is the backoff value, can be None"
      ]
    },
    {
      "cell_type": "markdown",
      "metadata": {
        "id": "gRTa34rLBFPw"
      },
      "source": [
        "## Convenient advanced collections"
      ]
    },
    {
      "cell_type": "markdown",
      "metadata": {
        "id": "1iMxlMmNuhrU"
      },
      "source": [
        "### Default Dictionary\n",
        "\n",
        "Sometimes, you want to create a key in a dictionary when you query it. \n",
        "\n",
        "defaultdicts are a wrapper around the basic `dict` type which allows you to define a default value for unseen keys. Every time a new key is queried, if it doesnt exist, the provided function is run to retrieve the default value."
      ]
    },
    {
      "cell_type": "code",
      "execution_count": 35,
      "metadata": {
        "colab": {
          "base_uri": "https://localhost:8080/"
        },
        "id": "vVJIAI8eqgjx",
        "outputId": "6546670b-70da-4d9d-c782-cfc8e6568961"
      },
      "outputs": [
        {
          "data": {
            "text/plain": [
              "1"
            ]
          },
          "execution_count": 35,
          "metadata": {},
          "output_type": "execute_result"
        }
      ],
      "source": [
        "from collections import defaultdict as ddict\n",
        "\n",
        "default = ddict(lambda: -1)\n",
        "default['a'] = 1\n",
        "default['c'] = 2\n",
        "default['a']"
      ]
    },
    {
      "cell_type": "code",
      "execution_count": 36,
      "metadata": {
        "colab": {
          "base_uri": "https://localhost:8080/"
        },
        "id": "NnXZVITG69AU",
        "outputId": "9159320b-72eb-455e-de2a-4fd87727122b"
      },
      "outputs": [
        {
          "data": {
            "text/plain": [
              "-1"
            ]
          },
          "execution_count": 36,
          "metadata": {},
          "output_type": "execute_result"
        }
      ],
      "source": [
        "default['b']"
      ]
    },
    {
      "cell_type": "code",
      "execution_count": 37,
      "metadata": {
        "colab": {
          "base_uri": "https://localhost:8080/"
        },
        "id": "I4pC2Y6R7COY",
        "outputId": "56205260-fc93-4221-8a8c-7818e4a133f7"
      },
      "outputs": [
        {
          "data": {
            "text/plain": [
              "2"
            ]
          },
          "execution_count": 37,
          "metadata": {},
          "output_type": "execute_result"
        }
      ],
      "source": [
        "default['c']"
      ]
    },
    {
      "cell_type": "code",
      "execution_count": 38,
      "metadata": {
        "colab": {
          "base_uri": "https://localhost:8080/"
        },
        "id": "jNPuQW-07E4-",
        "outputId": "f3f3c97d-c62f-4c3d-90ef-e24f702a8fff"
      },
      "outputs": [
        {
          "data": {
            "text/plain": [
              "dict_keys(['a', 'c', 'b'])"
            ]
          },
          "execution_count": 38,
          "metadata": {},
          "output_type": "execute_result"
        }
      ],
      "source": [
        "default.keys()"
      ]
    },
    {
      "cell_type": "markdown",
      "metadata": {
        "id": "xUpAYc_QB-hl"
      },
      "source": [
        "Your `defaultdict` will create an entry for the key when you query using `d[query]`. If you do not want this behavior, you should use `d.get()` instead."
      ]
    },
    {
      "cell_type": "markdown",
      "metadata": {
        "id": "WkrCSCn9v3TI"
      },
      "source": [
        "### Counters\n",
        "\n",
        "Counters are a wrapper around the basic `dict` type to facilitate quickly counting large numbers of things. They have a default value of `0` for any key and allow quickly adding keys and values using the `+` operator."
      ]
    },
    {
      "cell_type": "code",
      "execution_count": 39,
      "metadata": {
        "colab": {
          "base_uri": "https://localhost:8080/"
        },
        "id": "l3OEjzDYv2SX",
        "outputId": "3509255a-67db-4a5c-f8c7-ec5d475a22c5"
      },
      "outputs": [
        {
          "data": {
            "text/plain": [
              "0"
            ]
          },
          "execution_count": 39,
          "metadata": {},
          "output_type": "execute_result"
        }
      ],
      "source": [
        "from collections import Counter\n",
        "\n",
        "first = Counter()\n",
        "first['a'] # the count for `a` initializes to 0"
      ]
    },
    {
      "cell_type": "code",
      "execution_count": 40,
      "metadata": {
        "colab": {
          "base_uri": "https://localhost:8080/"
        },
        "id": "_NmUNiw5CvHg",
        "outputId": "7221aab3-9c69-4ab3-a353-42af83de872d"
      },
      "outputs": [
        {
          "data": {
            "text/plain": [
              "dict_keys([])"
            ]
          },
          "execution_count": 40,
          "metadata": {},
          "output_type": "execute_result"
        }
      ],
      "source": [
        "first.keys() # simply querying the Counter did not add the key"
      ]
    },
    {
      "cell_type": "code",
      "execution_count": 41,
      "metadata": {
        "colab": {
          "base_uri": "https://localhost:8080/"
        },
        "id": "3hDe-9FbC78C",
        "outputId": "965d75b7-39de-4e3c-e578-8b5249a6318d"
      },
      "outputs": [
        {
          "data": {
            "text/plain": [
              "Counter({'a': 0})"
            ]
          },
          "execution_count": 41,
          "metadata": {},
          "output_type": "execute_result"
        }
      ],
      "source": [
        "first['a'] = 0 # now we have set a value\n",
        "first"
      ]
    },
    {
      "cell_type": "code",
      "execution_count": 42,
      "metadata": {
        "colab": {
          "base_uri": "https://localhost:8080/"
        },
        "id": "YUutojbrDDcp",
        "outputId": "d8f06737-ef78-43f5-a11e-f2a6f786f6d0"
      },
      "outputs": [
        {
          "data": {
            "text/plain": [
              "Counter({'a': 0, 'b': 1})"
            ]
          },
          "execution_count": 42,
          "metadata": {},
          "output_type": "execute_result"
        }
      ],
      "source": [
        "first['b'] += 1 # you can increment an unseen key\n",
        "first"
      ]
    },
    {
      "cell_type": "markdown",
      "metadata": {
        "id": "8tN1FLwCDVEr"
      },
      "source": [
        "You can create Counters in a variety of ways."
      ]
    },
    {
      "cell_type": "code",
      "execution_count": 43,
      "metadata": {
        "colab": {
          "base_uri": "https://localhost:8080/"
        },
        "id": "66q44dymDPW0",
        "outputId": "8b78b76f-86c6-4961-9c74-4dcaba88bda6"
      },
      "outputs": [
        {
          "data": {
            "text/plain": [
              "Counter({'b': 1, 'c': 1})"
            ]
          },
          "execution_count": 43,
          "metadata": {},
          "output_type": "execute_result"
        }
      ],
      "source": [
        "second = Counter(['b', 'c'])\n",
        "second"
      ]
    },
    {
      "cell_type": "code",
      "execution_count": 44,
      "metadata": {
        "colab": {
          "base_uri": "https://localhost:8080/"
        },
        "id": "E9jkVAooDglH",
        "outputId": "f1c71336-0a28-4c24-d506-6744f57f3b1e"
      },
      "outputs": [
        {
          "data": {
            "text/plain": [
              "Counter({'a': 1, 'b': 1})"
            ]
          },
          "execution_count": 44,
          "metadata": {},
          "output_type": "execute_result"
        }
      ],
      "source": [
        "third = Counter({'a': 1, 'b': 1})\n",
        "third"
      ]
    },
    {
      "cell_type": "markdown",
      "metadata": {
        "id": "EhFRx1i9DxHQ"
      },
      "source": [
        "Creating a counter from a dictionary can have unexpected results."
      ]
    },
    {
      "cell_type": "code",
      "execution_count": 45,
      "metadata": {
        "colab": {
          "base_uri": "https://localhost:8080/"
        },
        "id": "861lEwzPDskb",
        "outputId": "79bf69fd-f80e-427b-bf50-65ea6997a5fe"
      },
      "outputs": [
        {
          "data": {
            "text/plain": [
              "Counter({'a': 'hello', 'b': []})"
            ]
          },
          "execution_count": 45,
          "metadata": {},
          "output_type": "execute_result"
        }
      ],
      "source": [
        "fourth = Counter({'a': \"hello\", 'b': []})\n",
        "fourth"
      ]
    },
    {
      "cell_type": "markdown",
      "metadata": {
        "id": "TB54OiSVEYMh"
      },
      "source": [
        "You can add values into counters"
      ]
    },
    {
      "cell_type": "code",
      "execution_count": 46,
      "metadata": {
        "colab": {
          "base_uri": "https://localhost:8080/"
        },
        "id": "lZUAtJbcEa2C",
        "outputId": "216bfa0d-9c8d-4f8d-8b0e-971c3808cb0f"
      },
      "outputs": [
        {
          "data": {
            "text/plain": [
              "Counter({'a': 2, 'b': 1})"
            ]
          },
          "execution_count": 46,
          "metadata": {},
          "output_type": "execute_result"
        }
      ],
      "source": [
        "first['a'] += 2\n",
        "first"
      ]
    },
    {
      "cell_type": "markdown",
      "metadata": {
        "id": "x4lfkTxYEG9F"
      },
      "source": [
        "Adding two counters together creates a new counter"
      ]
    },
    {
      "cell_type": "code",
      "execution_count": 47,
      "metadata": {
        "colab": {
          "base_uri": "https://localhost:8080/"
        },
        "id": "mTyzJr3uD_2q",
        "outputId": "5f26637a-a719-438c-e67d-f64dea31849a"
      },
      "outputs": [
        {
          "data": {
            "text/plain": [
              "Counter({'a': 2, 'b': 2, 'c': 1})"
            ]
          },
          "execution_count": 47,
          "metadata": {},
          "output_type": "execute_result"
        }
      ],
      "source": [
        "first + second"
      ]
    },
    {
      "cell_type": "markdown",
      "metadata": {
        "id": "d6cr7KLyELCB"
      },
      "source": [
        "but leaves the originals unchanged"
      ]
    },
    {
      "cell_type": "code",
      "execution_count": 48,
      "metadata": {
        "colab": {
          "base_uri": "https://localhost:8080/"
        },
        "id": "wTjBnZapEOhv",
        "outputId": "2f5dac11-3c97-4899-8dea-a2d191da36ef"
      },
      "outputs": [
        {
          "data": {
            "text/plain": [
              "(Counter({'a': 2, 'b': 1}), Counter({'b': 1, 'c': 1}))"
            ]
          },
          "execution_count": 48,
          "metadata": {},
          "output_type": "execute_result"
        }
      ],
      "source": [
        "first, second"
      ]
    },
    {
      "cell_type": "markdown",
      "metadata": {
        "id": "ipD0k-nsETa_"
      },
      "source": [
        "You can also add values from other collections in bulk using `update()`"
      ]
    },
    {
      "cell_type": "code",
      "execution_count": 49,
      "metadata": {
        "colab": {
          "base_uri": "https://localhost:8080/"
        },
        "id": "nXXRgaZoEfHe",
        "outputId": "a87b0f2f-9b1c-4f2c-c31d-4e53586e2474"
      },
      "outputs": [
        {
          "data": {
            "text/plain": [
              "Counter({'a': 2, 'b': 2, 'c': 1})"
            ]
          },
          "execution_count": 49,
          "metadata": {},
          "output_type": "execute_result"
        }
      ],
      "source": [
        "third.update(['a', 'b', 'c'])\n",
        "third"
      ]
    },
    {
      "cell_type": "markdown",
      "metadata": {
        "id": "rhkc_auNEowp"
      },
      "source": [
        "You can query Counters for the `most_common()` values, sorted in descending order."
      ]
    },
    {
      "cell_type": "code",
      "execution_count": 50,
      "metadata": {
        "colab": {
          "base_uri": "https://localhost:8080/"
        },
        "id": "XTSQSdHrEvOQ",
        "outputId": "f23cb27e-9cd8-4ea1-8cc4-84d3ae8b3eca"
      },
      "outputs": [
        {
          "data": {
            "text/plain": [
              "[('a', 2), ('b', 2), ('c', 1)]"
            ]
          },
          "execution_count": 50,
          "metadata": {},
          "output_type": "execute_result"
        }
      ],
      "source": [
        "third.most_common()"
      ]
    },
    {
      "cell_type": "markdown",
      "metadata": {
        "id": "e1Vo725AEurV"
      },
      "source": [
        "Or limit yourself to a few of them\n"
      ]
    },
    {
      "cell_type": "code",
      "execution_count": 51,
      "metadata": {
        "colab": {
          "base_uri": "https://localhost:8080/"
        },
        "id": "3jAiaNU8E4ko",
        "outputId": "fbdf93ea-1d32-4acb-fb0e-331dad9083f5"
      },
      "outputs": [
        {
          "data": {
            "text/plain": [
              "[('a', 2), ('b', 2)]"
            ]
          },
          "execution_count": 51,
          "metadata": {},
          "output_type": "execute_result"
        }
      ],
      "source": [
        "third.most_common(2)"
      ]
    },
    {
      "cell_type": "markdown",
      "metadata": {
        "id": "o8yhweVwv68A"
      },
      "source": [
        "### NamedTuple\n",
        "\n",
        "You will often find yourself passing data around in python using `tuples` rather than writing a complete class. This can get very confusing very quickly. While you may not want to write a whole class, you may want to reference elements in your tuple by name."
      ]
    },
    {
      "cell_type": "code",
      "execution_count": 52,
      "metadata": {
        "colab": {
          "base_uri": "https://localhost:8080/"
        },
        "id": "WvnLTby0v9jE",
        "outputId": "a43de28c-c134-4bff-b81e-37eadf3a8b84"
      },
      "outputs": [
        {
          "name": "stdout",
          "output_type": "stream",
          "text": [
            "True\n"
          ]
        }
      ],
      "source": [
        "from collections import namedtuple\n",
        "\n",
        "# Define your namedtuple\n",
        "Point = namedtuple('Point', ['x', 'y']) \n",
        "\n",
        "# create a new Point\n",
        "p = Point(1,2)\n",
        "\n",
        "# access elements of the Point by index or name\n",
        "print(p[0] == p.x)"
      ]
    },
    {
      "cell_type": "code",
      "execution_count": 53,
      "metadata": {
        "colab": {
          "base_uri": "https://localhost:8080/"
        },
        "id": "l0mwcm2ZG45Y",
        "outputId": "c4bbf540-b500-41fe-850e-d93f86245821"
      },
      "outputs": [
        {
          "name": "stdout",
          "output_type": "stream",
          "text": [
            "Point(x=1, y=2)\n"
          ]
        }
      ],
      "source": [
        "# namedtuples also have sane string representations\n",
        "print(p)"
      ]
    },
    {
      "cell_type": "markdown",
      "metadata": {
        "id": "eXcOJKC0F_Jz"
      },
      "source": [
        "One advantage of `namedtuple` over classes is that you can still use unpacking to split up the elements of your `namedtuple`."
      ]
    },
    {
      "cell_type": "code",
      "execution_count": 54,
      "metadata": {
        "colab": {
          "base_uri": "https://localhost:8080/"
        },
        "id": "esMng-CXF99Z",
        "outputId": "15e3f2a1-9899-4687-9f91-df4630cb6311"
      },
      "outputs": [
        {
          "name": "stdout",
          "output_type": "stream",
          "text": [
            "(1, 2) <-> Point(x=1, y=2)\n"
          ]
        }
      ],
      "source": [
        "x, y = p\n",
        "print(f'({x}, {y}) <-> {p}')"
      ]
    },
    {
      "cell_type": "markdown",
      "metadata": {
        "id": "0jixVS0IHHuS"
      },
      "source": [
        "A `namedtuple` can be directly compared to a regular `tuple` and is equal if it has the same values in the same order."
      ]
    },
    {
      "cell_type": "code",
      "execution_count": 55,
      "metadata": {
        "colab": {
          "base_uri": "https://localhost:8080/"
        },
        "id": "C3Ve8QISHBse",
        "outputId": "94b50fed-f9dc-431b-9b4e-64323f2eddde"
      },
      "outputs": [
        {
          "name": "stdout",
          "output_type": "stream",
          "text": [
            "True\n"
          ]
        }
      ],
      "source": [
        "print((1,2) == p)"
      ]
    },
    {
      "cell_type": "markdown",
      "metadata": {
        "id": "rwfvj8vau9VA"
      },
      "source": [
        "# List Comprehensions"
      ]
    },
    {
      "cell_type": "markdown",
      "metadata": {
        "id": "ECxUGw0LnbS1"
      },
      "source": [
        "## Basic List Comprehensions"
      ]
    },
    {
      "cell_type": "code",
      "execution_count": 56,
      "metadata": {
        "colab": {
          "base_uri": "https://localhost:8080/"
        },
        "id": "zC1ODMbrn-Ma",
        "outputId": "bbfddf34-f8e1-42e7-8adb-cf8d4ff9bd59"
      },
      "outputs": [
        {
          "name": "stdout",
          "output_type": "stream",
          "text": [
            "23\n",
            "187\n"
          ]
        }
      ],
      "source": [
        "lst = [12,23,142,12,45,5,187]\n",
        "# You can index from the beginning or the end of a list\n",
        "\n",
        "print(lst[1])\n",
        "print(lst[-1])"
      ]
    },
    {
      "cell_type": "code",
      "execution_count": 57,
      "metadata": {
        "colab": {
          "base_uri": "https://localhost:8080/"
        },
        "id": "25UPj4JloP-R",
        "outputId": "54020d1e-7895-4b57-866d-bd2ad6ff2ed3"
      },
      "outputs": [
        {
          "name": "stdout",
          "output_type": "stream",
          "text": [
            "[12, 23, 142]\n",
            "[45, 5, 187]\n"
          ]
        }
      ],
      "source": [
        "# You can take a 'slice' of a list\n",
        "\n",
        "print(lst[:3]) # first 3 elements of lst\n",
        "print(lst[-3:]) # last 3 elements of lst"
      ]
    },
    {
      "cell_type": "code",
      "execution_count": 58,
      "metadata": {
        "colab": {
          "base_uri": "https://localhost:8080/"
        },
        "id": "hm69mZZxwpuY",
        "outputId": "1a4e2ce5-d706-413b-cff9-3e38b50f05ed"
      },
      "outputs": [
        {
          "name": "stdout",
          "output_type": "stream",
          "text": [
            "[142, 12, 45]\n"
          ]
        }
      ],
      "source": [
        "# lst[a:b] takes the elements between index a and b\n",
        "\n",
        "print(lst[2:5])"
      ]
    },
    {
      "cell_type": "code",
      "execution_count": 59,
      "metadata": {
        "colab": {
          "base_uri": "https://localhost:8080/"
        },
        "id": "K2eDqRs-oZaN",
        "outputId": "74c34704-2b85-46cd-dba5-122d2cd0594d"
      },
      "outputs": [
        {
          "name": "stdout",
          "output_type": "stream",
          "text": [
            "[12, 142, 45, 187]\n",
            "[23, 12, 5]\n"
          ]
        }
      ],
      "source": [
        "# You can take every nth element of a list\n",
        "print(lst[::2])\n",
        "print(lst[1:6:2])"
      ]
    },
    {
      "cell_type": "markdown",
      "metadata": {
        "id": "xMdc5dRow1js"
      },
      "source": [
        "Slicing allows you to do the same types of operations as `range()`, which means you can directly address the elements of the collection you are interested in without the additional layer of indices if you don't need the indices."
      ]
    },
    {
      "cell_type": "markdown",
      "metadata": {
        "id": "4QvtH7eYpCeS"
      },
      "source": [
        "## Advanced List Comprehensions"
      ]
    },
    {
      "cell_type": "markdown",
      "metadata": {
        "id": "Zooc7pYtxREh"
      },
      "source": [
        "Create a list using a for loop in one line:"
      ]
    },
    {
      "cell_type": "code",
      "execution_count": 60,
      "metadata": {
        "colab": {
          "base_uri": "https://localhost:8080/"
        },
        "id": "hKbVZaRPoxxs",
        "outputId": "cd70669c-a5a4-4833-c430-24293bacac4c"
      },
      "outputs": [
        {
          "data": {
            "text/plain": [
              "[0, 3, 6]"
            ]
          },
          "execution_count": 60,
          "metadata": {},
          "output_type": "execute_result"
        }
      ],
      "source": [
        "[3*i for i in range(3)]"
      ]
    },
    {
      "cell_type": "markdown",
      "metadata": {
        "id": "mysEvki9xUtx"
      },
      "source": [
        "Add a conditional to your loop:"
      ]
    },
    {
      "cell_type": "code",
      "execution_count": 61,
      "metadata": {
        "colab": {
          "base_uri": "https://localhost:8080/"
        },
        "id": "1CW0--vcpPX7",
        "outputId": "3d090430-d34b-49f4-d687-d5d3b604648b"
      },
      "outputs": [
        {
          "data": {
            "text/plain": [
              "[1, 3, 5, 7, 9, 11, 13, 15, 17, 19]"
            ]
          },
          "execution_count": 61,
          "metadata": {},
          "output_type": "execute_result"
        }
      ],
      "source": [
        "[i for i in range(20) if i % 2 == 1]"
      ]
    },
    {
      "cell_type": "markdown",
      "metadata": {
        "id": "ynnAMaDRxZdR"
      },
      "source": [
        "You can nest for loops in a single line:"
      ]
    },
    {
      "cell_type": "code",
      "execution_count": 62,
      "metadata": {
        "colab": {
          "base_uri": "https://localhost:8080/"
        },
        "id": "gJzMP9nkpi3J",
        "outputId": "cf98f43d-46c2-4afb-8659-3eeccccc949f"
      },
      "outputs": [
        {
          "data": {
            "text/plain": [
              "[(0, 5),\n",
              " (0, 6),\n",
              " (0, 7),\n",
              " (0, 8),\n",
              " (0, 9),\n",
              " (1, 5),\n",
              " (1, 6),\n",
              " (1, 7),\n",
              " (1, 8),\n",
              " (1, 9),\n",
              " (2, 5),\n",
              " (2, 6),\n",
              " (2, 7),\n",
              " (2, 8),\n",
              " (2, 9),\n",
              " (3, 5),\n",
              " (3, 6),\n",
              " (3, 7),\n",
              " (3, 8),\n",
              " (3, 9),\n",
              " (4, 5),\n",
              " (4, 6),\n",
              " (4, 7),\n",
              " (4, 8),\n",
              " (4, 9)]"
            ]
          },
          "execution_count": 62,
          "metadata": {},
          "output_type": "execute_result"
        }
      ],
      "source": [
        "# The last for loop is the outer loop\n",
        "[(i, j) for i in range(5) for j in range(5,10)]"
      ]
    },
    {
      "cell_type": "markdown",
      "metadata": {
        "id": "_wRsACVNxixk"
      },
      "source": [
        "You can also create a dictionary in a single line:"
      ]
    },
    {
      "cell_type": "code",
      "execution_count": 63,
      "metadata": {
        "colab": {
          "base_uri": "https://localhost:8080/"
        },
        "id": "nbDMP9eAptPp",
        "outputId": "fc59cd9f-cfd6-40f2-8ea6-74e953f87ac4"
      },
      "outputs": [
        {
          "data": {
            "text/plain": [
              "{0: 0,\n",
              " 1: 5,\n",
              " 2: 10,\n",
              " 3: 15,\n",
              " 4: 20,\n",
              " 5: 25,\n",
              " 6: 30,\n",
              " 7: 35,\n",
              " 8: 40,\n",
              " 9: 45,\n",
              " 10: 50,\n",
              " 11: 55}"
            ]
          },
          "execution_count": 63,
          "metadata": {},
          "output_type": "execute_result"
        }
      ],
      "source": [
        "{i: i*5 for i in range(12)}"
      ]
    },
    {
      "cell_type": "markdown",
      "metadata": {
        "id": "mynQBa4Axn9V"
      },
      "source": [
        "Or, a set:"
      ]
    },
    {
      "cell_type": "code",
      "execution_count": 64,
      "metadata": {
        "colab": {
          "base_uri": "https://localhost:8080/"
        },
        "id": "JRDVxcaKp-sM",
        "outputId": "e79f022b-522a-46cf-c1cb-c3d7da9a26ca"
      },
      "outputs": [
        {
          "data": {
            "text/plain": [
              "{0, 1, 2, 3, 4}"
            ]
          },
          "execution_count": 64,
          "metadata": {},
          "output_type": "execute_result"
        }
      ],
      "source": [
        "{i%5 for i in range(1232)}"
      ]
    },
    {
      "cell_type": "markdown",
      "metadata": {
        "id": "96YYsiq1frya"
      },
      "source": [
        "# max, min, sort, sum"
      ]
    },
    {
      "cell_type": "markdown",
      "metadata": {
        "id": "f1Mda7n3qUSa"
      },
      "source": [
        "## max and min\n",
        "\n",
        "The functions `max()` and `min()` can run on any iterable value. When the elements have a natural ordering function, `max()` and `min()` automatically return the expected values."
      ]
    },
    {
      "cell_type": "code",
      "execution_count": 65,
      "metadata": {
        "colab": {
          "base_uri": "https://localhost:8080/"
        },
        "id": "4LLSkZ8odcs7",
        "outputId": "43451ff5-83db-499d-a809-bbf5d36c160d"
      },
      "outputs": [
        {
          "data": {
            "text/plain": [
              "94"
            ]
          },
          "execution_count": 65,
          "metadata": {},
          "output_type": "execute_result"
        }
      ],
      "source": [
        "max([1,23,94,2])"
      ]
    },
    {
      "cell_type": "code",
      "execution_count": 66,
      "metadata": {
        "colab": {
          "base_uri": "https://localhost:8080/"
        },
        "id": "jVmAn3WkdfX_",
        "outputId": "301bedaa-ff04-4aac-8b3d-939dfa44f939"
      },
      "outputs": [
        {
          "data": {
            "text/plain": [
              "1"
            ]
          },
          "execution_count": 66,
          "metadata": {},
          "output_type": "execute_result"
        }
      ],
      "source": [
        "min([1,23,94,2])"
      ]
    },
    {
      "cell_type": "markdown",
      "metadata": {
        "id": "cmhk-U9kdkMO"
      },
      "source": [
        "However, some types (e.g. non-scalar types such as `list` or `dict`) have natural ordering functions. In addition, there are situations where you may wish to maximize or minimize by a different condition. In these situations, you can use the `key` argument. The `key` argument takes a function of one argument and returns an orderable value."
      ]
    },
    {
      "cell_type": "code",
      "execution_count": 67,
      "metadata": {
        "colab": {
          "base_uri": "https://localhost:8080/",
          "height": 37
        },
        "id": "hc8AxhgMebKK",
        "outputId": "ba3b3afd-7ae4-42ec-a0c4-450ccaad445b"
      },
      "outputs": [
        {
          "data": {
            "application/vnd.google.colaboratory.intrinsic+json": {
              "type": "string"
            },
            "text/plain": [
              "'Margaret'"
            ]
          },
          "execution_count": 67,
          "metadata": {},
          "output_type": "execute_result"
        }
      ],
      "source": [
        "names = [\"Alfred\", \"Margaret\", \"Dipika\"]\n",
        "\n",
        "# since len is already a function of one argument, we can pass it in directly\n",
        "max(names, key=len) "
      ]
    },
    {
      "cell_type": "code",
      "execution_count": 68,
      "metadata": {
        "colab": {
          "base_uri": "https://localhost:8080/",
          "height": 37
        },
        "id": "8fUrrF_ZeAgw",
        "outputId": "9e010d13-116b-4c72-f8d6-072ddf5a6a69"
      },
      "outputs": [
        {
          "data": {
            "application/vnd.google.colaboratory.intrinsic+json": {
              "type": "string"
            },
            "text/plain": [
              "'Margaret'"
            ]
          },
          "execution_count": 68,
          "metadata": {},
          "output_type": "execute_result"
        }
      ],
      "source": [
        "# but lambdas are great for this purpose\n",
        "max(names, key=lambda x: len(x))"
      ]
    },
    {
      "cell_type": "markdown",
      "metadata": {
        "id": "26HVFwULetNB"
      },
      "source": [
        "## Sorting\n",
        "\n",
        "Sorting works much the same way. There are two primary ways to sort.**bold text**"
      ]
    },
    {
      "cell_type": "code",
      "execution_count": 69,
      "metadata": {
        "colab": {
          "base_uri": "https://localhost:8080/"
        },
        "id": "QYd3CJX4e0j8",
        "outputId": "e01f68cd-72da-416d-d638-5809b1acb308"
      },
      "outputs": [
        {
          "data": {
            "text/plain": [
              "['Alfred', 'Dipika', 'Margaret']"
            ]
          },
          "execution_count": 69,
          "metadata": {},
          "output_type": "execute_result"
        }
      ],
      "source": [
        "# Will return a sorted copy of the list\n",
        "sorted(names) # The default sort for strings is alphabetic"
      ]
    },
    {
      "cell_type": "code",
      "execution_count": 70,
      "metadata": {
        "colab": {
          "base_uri": "https://localhost:8080/"
        },
        "id": "NT8N8ruFfDdi",
        "outputId": "7536977f-76d4-4902-a464-caad5cc63287"
      },
      "outputs": [
        {
          "data": {
            "text/plain": [
              "['Alfred', 'Dipika', 'Margaret']"
            ]
          },
          "execution_count": 70,
          "metadata": {},
          "output_type": "execute_result"
        }
      ],
      "source": [
        "# will sort the list in place\n",
        "names.sort(key=len)\n",
        "names"
      ]
    },
    {
      "cell_type": "markdown",
      "metadata": {
        "id": "BA_zxtFufPZm"
      },
      "source": [
        "Note that the default sort is in ascending order. You can either provide a key to reverse the sort or call the `reversed()` or `.reverse()` function."
      ]
    },
    {
      "cell_type": "markdown",
      "metadata": {
        "id": "-MM5j7UYfj5F"
      },
      "source": [
        "## Sum and join\n",
        "\n",
        "`sum()` takes the elements of a collection and adds them together."
      ]
    },
    {
      "cell_type": "code",
      "execution_count": 71,
      "metadata": {
        "colab": {
          "base_uri": "https://localhost:8080/"
        },
        "id": "iUjcfgALffRF",
        "outputId": "fb4f649c-300c-4eb7-e200-3126104775a3"
      },
      "outputs": [
        {
          "data": {
            "text/plain": [
              "15"
            ]
          },
          "execution_count": 71,
          "metadata": {},
          "output_type": "execute_result"
        }
      ],
      "source": [
        "sum([1,2,3,4,5])"
      ]
    },
    {
      "cell_type": "markdown",
      "metadata": {
        "id": "kJ5iKKFUf6fM"
      },
      "source": [
        "The `+` operator has different meanings for different lists. For example:"
      ]
    },
    {
      "cell_type": "code",
      "execution_count": 72,
      "metadata": {
        "colab": {
          "base_uri": "https://localhost:8080/"
        },
        "id": "OVJ4nAx9gA6m",
        "outputId": "7b212c82-5da7-4e65-b49d-d0e41dd1dd87"
      },
      "outputs": [
        {
          "data": {
            "text/plain": [
              "[1, 2]"
            ]
          },
          "execution_count": 72,
          "metadata": {},
          "output_type": "execute_result"
        }
      ],
      "source": [
        "sum([[1], [2]], []) # the second argument tells sum which starting value to use"
      ]
    },
    {
      "cell_type": "markdown",
      "metadata": {
        "id": "byYcDfFzgaPM"
      },
      "source": [
        "`sum()` doesn't work for strings. Instead, we have `.join()` for strings. `.join()` is a function called on a string. If you call `a.join(b)`, the elements of `b` are put together into a single string separated by instances of `a`."
      ]
    },
    {
      "cell_type": "code",
      "execution_count": 73,
      "metadata": {
        "colab": {
          "base_uri": "https://localhost:8080/",
          "height": 37
        },
        "id": "40CL1zKvgZnI",
        "outputId": "1bf702c8-c5d7-4074-9ebb-1de1ad0f0c92"
      },
      "outputs": [
        {
          "data": {
            "application/vnd.google.colaboratory.intrinsic+json": {
              "type": "string"
            },
            "text/plain": [
              "'Alfred, Dipika, Margaret'"
            ]
          },
          "execution_count": 73,
          "metadata": {},
          "output_type": "execute_result"
        }
      ],
      "source": [
        "\", \".join(names)"
      ]
    },
    {
      "cell_type": "markdown",
      "metadata": {
        "id": "ccoZnZDJqxsA"
      },
      "source": [
        "# Forms and progress bars"
      ]
    },
    {
      "cell_type": "code",
      "execution_count": 74,
      "metadata": {
        "colab": {
          "base_uri": "https://localhost:8080/"
        },
        "id": "VyoR4hK5hFZ7",
        "outputId": "4c6df2e5-f99d-4790-fa2f-ce602f909986"
      },
      "outputs": [
        {
          "name": "stdout",
          "output_type": "stream",
          "text": [
            "2010-11-20\n"
          ]
        }
      ],
      "source": [
        "#@title Example form fields\n",
        "#@markdown Forms support many types of fields.\n",
        "\n",
        "no_type_checking = ''  #@param\n",
        "string_type = 'example'  #@param {type: \"string\"}\n",
        "slider_value = 131  #@param {type: \"slider\", min: 100, max: 200}\n",
        "number = 102  #@param {type: \"number\"}\n",
        "date = '2010-11-20'  #@param {type: \"date\"}\n",
        "pick_me = \"monday\"  #@param ['monday', 'tuesday', 'wednesday', 'thursday']\n",
        "select_or_input = \"apples\" #@param [\"apples\", \"bananas\", \"oranges\"] {allow-input: true}\n",
        "#@markdown ---\n",
        "#@markdown these values can be used in code\n",
        "#@markdown\n",
        "#@markdown If the value is changed in the form, it overrides the value in the code cell\n",
        "\n",
        "print(date)"
      ]
    },
    {
      "cell_type": "code",
      "execution_count": 75,
      "metadata": {
        "colab": {
          "base_uri": "https://localhost:8080/",
          "height": 134,
          "referenced_widgets": [
            "7ca604dc7f5b4b7db746830c326d7baa",
            "d786d793046e4c7eada9bdbd4cc917e5",
            "315423b7af12413cab3252a3dccb50a4",
            "538376f56e3f46958d60712aa6cc5a77",
            "1fca0950cc87420d91e51f05c62b93e9",
            "f51ee925c89d418e9cfbe72d6b0d541a",
            "d2ad559bd236407fbce7b43ab29f20e6",
            "f69e77b6cb0441ee9a7db1b1ee14e223",
            "2e7508750dfc4ad39ed60f9a287d0c2e",
            "cc1f96759bf24222aded1add77a30275",
            "c6541788492042d8a0fd8784c285fbd0"
          ]
        },
        "id": "ccCwr1jdnIPp",
        "outputId": "ff545bca-78ab-4929-94dc-715391979a6b"
      },
      "outputs": [
        {
          "data": {
            "application/vnd.jupyter.widget-view+json": {
              "model_id": "7ca604dc7f5b4b7db746830c326d7baa",
              "version_major": 2,
              "version_minor": 0
            },
            "text/plain": [
              "  0%|          | 0/5 [00:00<?, ?it/s]"
            ]
          },
          "metadata": {},
          "output_type": "display_data"
        },
        {
          "name": "stdout",
          "output_type": "stream",
          "text": [
            "1\n",
            "2\n",
            "3\n",
            "4\n",
            "5\n"
          ]
        }
      ],
      "source": [
        "# You can easily create a progress bar using tqdm\n",
        "from time import sleep\n",
        "from tqdm.notebook import tqdm\n",
        "\n",
        "for i in tqdm([1,2,3,4,5]):\n",
        "  print(i)\n",
        "  sleep(1)"
      ]
    }
  ],
  "metadata": {
    "colab": {
      "authorship_tag": "ABX9TyN9TgTXLW/gWzFzQSapSiBJ",
      "collapsed_sections": [
        "i0q5aeKB9Ki1",
        "sW8dcchAkp2X",
        "m0ZpCfKP9Tad",
        "VhR73Y0ywhG0",
        "1onAJoDh5KL3",
        "mS0udbttwQu5",
        "vUSg03e4wUH0",
        "wccrK_eiwcb5",
        "ejhdtpSiqax7",
        "gRTa34rLBFPw",
        "rwfvj8vau9VA",
        "ECxUGw0LnbS1",
        "4QvtH7eYpCeS",
        "96YYsiq1frya"
      ],
      "include_colab_link": true,
      "name": "PythonFeatures.ipynb",
      "provenance": [],
      "toc_visible": true
    },
    "kernelspec": {
      "display_name": "Python 3",
      "name": "python3"
    },
    "language_info": {
      "name": "python"
    },
    "widgets": {
      "application/vnd.jupyter.widget-state+json": {
        "1fca0950cc87420d91e51f05c62b93e9": {
          "model_module": "@jupyter-widgets/controls",
          "model_module_version": "1.5.0",
          "model_name": "HTMLModel",
          "state": {
            "_dom_classes": [],
            "_model_module": "@jupyter-widgets/controls",
            "_model_module_version": "1.5.0",
            "_model_name": "HTMLModel",
            "_view_count": null,
            "_view_module": "@jupyter-widgets/controls",
            "_view_module_version": "1.5.0",
            "_view_name": "HTMLView",
            "description": "",
            "description_tooltip": null,
            "layout": "IPY_MODEL_c6541788492042d8a0fd8784c285fbd0",
            "placeholder": "​",
            "style": "IPY_MODEL_cc1f96759bf24222aded1add77a30275",
            "value": " 5/5 [00:05&lt;00:00,  1.01s/it]"
          }
        },
        "2e7508750dfc4ad39ed60f9a287d0c2e": {
          "model_module": "@jupyter-widgets/base",
          "model_module_version": "1.2.0",
          "model_name": "LayoutModel",
          "state": {
            "_model_module": "@jupyter-widgets/base",
            "_model_module_version": "1.2.0",
            "_model_name": "LayoutModel",
            "_view_count": null,
            "_view_module": "@jupyter-widgets/base",
            "_view_module_version": "1.2.0",
            "_view_name": "LayoutView",
            "align_content": null,
            "align_items": null,
            "align_self": null,
            "border": null,
            "bottom": null,
            "display": null,
            "flex": null,
            "flex_flow": null,
            "grid_area": null,
            "grid_auto_columns": null,
            "grid_auto_flow": null,
            "grid_auto_rows": null,
            "grid_column": null,
            "grid_gap": null,
            "grid_row": null,
            "grid_template_areas": null,
            "grid_template_columns": null,
            "grid_template_rows": null,
            "height": null,
            "justify_content": null,
            "justify_items": null,
            "left": null,
            "margin": null,
            "max_height": null,
            "max_width": null,
            "min_height": null,
            "min_width": null,
            "object_fit": null,
            "object_position": null,
            "order": null,
            "overflow": null,
            "overflow_x": null,
            "overflow_y": null,
            "padding": null,
            "right": null,
            "top": null,
            "visibility": null,
            "width": null
          }
        },
        "315423b7af12413cab3252a3dccb50a4": {
          "model_module": "@jupyter-widgets/controls",
          "model_module_version": "1.5.0",
          "model_name": "HTMLModel",
          "state": {
            "_dom_classes": [],
            "_model_module": "@jupyter-widgets/controls",
            "_model_module_version": "1.5.0",
            "_model_name": "HTMLModel",
            "_view_count": null,
            "_view_module": "@jupyter-widgets/controls",
            "_view_module_version": "1.5.0",
            "_view_name": "HTMLView",
            "description": "",
            "description_tooltip": null,
            "layout": "IPY_MODEL_d2ad559bd236407fbce7b43ab29f20e6",
            "placeholder": "​",
            "style": "IPY_MODEL_f51ee925c89d418e9cfbe72d6b0d541a",
            "value": "100%"
          }
        },
        "538376f56e3f46958d60712aa6cc5a77": {
          "model_module": "@jupyter-widgets/controls",
          "model_module_version": "1.5.0",
          "model_name": "FloatProgressModel",
          "state": {
            "_dom_classes": [],
            "_model_module": "@jupyter-widgets/controls",
            "_model_module_version": "1.5.0",
            "_model_name": "FloatProgressModel",
            "_view_count": null,
            "_view_module": "@jupyter-widgets/controls",
            "_view_module_version": "1.5.0",
            "_view_name": "ProgressView",
            "bar_style": "success",
            "description": "",
            "description_tooltip": null,
            "layout": "IPY_MODEL_2e7508750dfc4ad39ed60f9a287d0c2e",
            "max": 5,
            "min": 0,
            "orientation": "horizontal",
            "style": "IPY_MODEL_f69e77b6cb0441ee9a7db1b1ee14e223",
            "value": 5
          }
        },
        "7ca604dc7f5b4b7db746830c326d7baa": {
          "model_module": "@jupyter-widgets/controls",
          "model_module_version": "1.5.0",
          "model_name": "HBoxModel",
          "state": {
            "_dom_classes": [],
            "_model_module": "@jupyter-widgets/controls",
            "_model_module_version": "1.5.0",
            "_model_name": "HBoxModel",
            "_view_count": null,
            "_view_module": "@jupyter-widgets/controls",
            "_view_module_version": "1.5.0",
            "_view_name": "HBoxView",
            "box_style": "",
            "children": [
              "IPY_MODEL_315423b7af12413cab3252a3dccb50a4",
              "IPY_MODEL_538376f56e3f46958d60712aa6cc5a77",
              "IPY_MODEL_1fca0950cc87420d91e51f05c62b93e9"
            ],
            "layout": "IPY_MODEL_d786d793046e4c7eada9bdbd4cc917e5"
          }
        },
        "c6541788492042d8a0fd8784c285fbd0": {
          "model_module": "@jupyter-widgets/base",
          "model_module_version": "1.2.0",
          "model_name": "LayoutModel",
          "state": {
            "_model_module": "@jupyter-widgets/base",
            "_model_module_version": "1.2.0",
            "_model_name": "LayoutModel",
            "_view_count": null,
            "_view_module": "@jupyter-widgets/base",
            "_view_module_version": "1.2.0",
            "_view_name": "LayoutView",
            "align_content": null,
            "align_items": null,
            "align_self": null,
            "border": null,
            "bottom": null,
            "display": null,
            "flex": null,
            "flex_flow": null,
            "grid_area": null,
            "grid_auto_columns": null,
            "grid_auto_flow": null,
            "grid_auto_rows": null,
            "grid_column": null,
            "grid_gap": null,
            "grid_row": null,
            "grid_template_areas": null,
            "grid_template_columns": null,
            "grid_template_rows": null,
            "height": null,
            "justify_content": null,
            "justify_items": null,
            "left": null,
            "margin": null,
            "max_height": null,
            "max_width": null,
            "min_height": null,
            "min_width": null,
            "object_fit": null,
            "object_position": null,
            "order": null,
            "overflow": null,
            "overflow_x": null,
            "overflow_y": null,
            "padding": null,
            "right": null,
            "top": null,
            "visibility": null,
            "width": null
          }
        },
        "cc1f96759bf24222aded1add77a30275": {
          "model_module": "@jupyter-widgets/controls",
          "model_module_version": "1.5.0",
          "model_name": "DescriptionStyleModel",
          "state": {
            "_model_module": "@jupyter-widgets/controls",
            "_model_module_version": "1.5.0",
            "_model_name": "DescriptionStyleModel",
            "_view_count": null,
            "_view_module": "@jupyter-widgets/base",
            "_view_module_version": "1.2.0",
            "_view_name": "StyleView",
            "description_width": ""
          }
        },
        "d2ad559bd236407fbce7b43ab29f20e6": {
          "model_module": "@jupyter-widgets/base",
          "model_module_version": "1.2.0",
          "model_name": "LayoutModel",
          "state": {
            "_model_module": "@jupyter-widgets/base",
            "_model_module_version": "1.2.0",
            "_model_name": "LayoutModel",
            "_view_count": null,
            "_view_module": "@jupyter-widgets/base",
            "_view_module_version": "1.2.0",
            "_view_name": "LayoutView",
            "align_content": null,
            "align_items": null,
            "align_self": null,
            "border": null,
            "bottom": null,
            "display": null,
            "flex": null,
            "flex_flow": null,
            "grid_area": null,
            "grid_auto_columns": null,
            "grid_auto_flow": null,
            "grid_auto_rows": null,
            "grid_column": null,
            "grid_gap": null,
            "grid_row": null,
            "grid_template_areas": null,
            "grid_template_columns": null,
            "grid_template_rows": null,
            "height": null,
            "justify_content": null,
            "justify_items": null,
            "left": null,
            "margin": null,
            "max_height": null,
            "max_width": null,
            "min_height": null,
            "min_width": null,
            "object_fit": null,
            "object_position": null,
            "order": null,
            "overflow": null,
            "overflow_x": null,
            "overflow_y": null,
            "padding": null,
            "right": null,
            "top": null,
            "visibility": null,
            "width": null
          }
        },
        "d786d793046e4c7eada9bdbd4cc917e5": {
          "model_module": "@jupyter-widgets/base",
          "model_module_version": "1.2.0",
          "model_name": "LayoutModel",
          "state": {
            "_model_module": "@jupyter-widgets/base",
            "_model_module_version": "1.2.0",
            "_model_name": "LayoutModel",
            "_view_count": null,
            "_view_module": "@jupyter-widgets/base",
            "_view_module_version": "1.2.0",
            "_view_name": "LayoutView",
            "align_content": null,
            "align_items": null,
            "align_self": null,
            "border": null,
            "bottom": null,
            "display": null,
            "flex": null,
            "flex_flow": null,
            "grid_area": null,
            "grid_auto_columns": null,
            "grid_auto_flow": null,
            "grid_auto_rows": null,
            "grid_column": null,
            "grid_gap": null,
            "grid_row": null,
            "grid_template_areas": null,
            "grid_template_columns": null,
            "grid_template_rows": null,
            "height": null,
            "justify_content": null,
            "justify_items": null,
            "left": null,
            "margin": null,
            "max_height": null,
            "max_width": null,
            "min_height": null,
            "min_width": null,
            "object_fit": null,
            "object_position": null,
            "order": null,
            "overflow": null,
            "overflow_x": null,
            "overflow_y": null,
            "padding": null,
            "right": null,
            "top": null,
            "visibility": null,
            "width": null
          }
        },
        "f51ee925c89d418e9cfbe72d6b0d541a": {
          "model_module": "@jupyter-widgets/controls",
          "model_module_version": "1.5.0",
          "model_name": "DescriptionStyleModel",
          "state": {
            "_model_module": "@jupyter-widgets/controls",
            "_model_module_version": "1.5.0",
            "_model_name": "DescriptionStyleModel",
            "_view_count": null,
            "_view_module": "@jupyter-widgets/base",
            "_view_module_version": "1.2.0",
            "_view_name": "StyleView",
            "description_width": ""
          }
        },
        "f69e77b6cb0441ee9a7db1b1ee14e223": {
          "model_module": "@jupyter-widgets/controls",
          "model_module_version": "1.5.0",
          "model_name": "ProgressStyleModel",
          "state": {
            "_model_module": "@jupyter-widgets/controls",
            "_model_module_version": "1.5.0",
            "_model_name": "ProgressStyleModel",
            "_view_count": null,
            "_view_module": "@jupyter-widgets/base",
            "_view_module_version": "1.2.0",
            "_view_name": "StyleView",
            "bar_color": null,
            "description_width": ""
          }
        }
      }
    }
  },
  "nbformat": 4,
  "nbformat_minor": 0
}
