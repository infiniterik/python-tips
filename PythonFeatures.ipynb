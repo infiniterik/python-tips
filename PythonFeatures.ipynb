{
  "nbformat": 4,
  "nbformat_minor": 0,
  "metadata": {
    "colab": {
      "name": "PythonFeatures.ipynb",
      "provenance": [],
      "collapsed_sections": [
        "i0q5aeKB9Ki1"
      ],
      "toc_visible": true,
      "authorship_tag": "ABX9TyN9Ybb3VaSBNr89qhjZSBF4",
      "include_colab_link": true
    },
    "kernelspec": {
      "name": "python3",
      "display_name": "Python 3"
    },
    "language_info": {
      "name": "python"
    },
    "widgets": {
      "application/vnd.jupyter.widget-state+json": {
        "8697628d79f34eab9d0dbcf2be149689": {
          "model_module": "@jupyter-widgets/controls",
          "model_name": "HBoxModel",
          "model_module_version": "1.5.0",
          "state": {
            "_view_name": "HBoxView",
            "_dom_classes": [],
            "_model_name": "HBoxModel",
            "_view_module": "@jupyter-widgets/controls",
            "_model_module_version": "1.5.0",
            "_view_count": null,
            "_view_module_version": "1.5.0",
            "box_style": "",
            "layout": "IPY_MODEL_5b6bfefbdf0042529f9366ca59dbf8a7",
            "_model_module": "@jupyter-widgets/controls",
            "children": [
              "IPY_MODEL_2893ba1bca14420dad5b51f22c71713f",
              "IPY_MODEL_63e0564b0bd046e98464861f462bef2d",
              "IPY_MODEL_74aa7bc121474c338fe58f3681737958"
            ]
          }
        },
        "5b6bfefbdf0042529f9366ca59dbf8a7": {
          "model_module": "@jupyter-widgets/base",
          "model_name": "LayoutModel",
          "model_module_version": "1.2.0",
          "state": {
            "_view_name": "LayoutView",
            "grid_template_rows": null,
            "right": null,
            "justify_content": null,
            "_view_module": "@jupyter-widgets/base",
            "overflow": null,
            "_model_module_version": "1.2.0",
            "_view_count": null,
            "flex_flow": null,
            "width": null,
            "min_width": null,
            "border": null,
            "align_items": null,
            "bottom": null,
            "_model_module": "@jupyter-widgets/base",
            "top": null,
            "grid_column": null,
            "overflow_y": null,
            "overflow_x": null,
            "grid_auto_flow": null,
            "grid_area": null,
            "grid_template_columns": null,
            "flex": null,
            "_model_name": "LayoutModel",
            "justify_items": null,
            "grid_row": null,
            "max_height": null,
            "align_content": null,
            "visibility": null,
            "align_self": null,
            "height": null,
            "min_height": null,
            "padding": null,
            "grid_auto_rows": null,
            "grid_gap": null,
            "max_width": null,
            "order": null,
            "_view_module_version": "1.2.0",
            "grid_template_areas": null,
            "object_position": null,
            "object_fit": null,
            "grid_auto_columns": null,
            "margin": null,
            "display": null,
            "left": null
          }
        },
        "2893ba1bca14420dad5b51f22c71713f": {
          "model_module": "@jupyter-widgets/controls",
          "model_name": "HTMLModel",
          "model_module_version": "1.5.0",
          "state": {
            "_view_name": "HTMLView",
            "style": "IPY_MODEL_08bb65fc13a74dd68a16662116093b75",
            "_dom_classes": [],
            "description": "",
            "_model_name": "HTMLModel",
            "placeholder": "​",
            "_view_module": "@jupyter-widgets/controls",
            "_model_module_version": "1.5.0",
            "value": "100%",
            "_view_count": null,
            "_view_module_version": "1.5.0",
            "description_tooltip": null,
            "_model_module": "@jupyter-widgets/controls",
            "layout": "IPY_MODEL_95c9569f273d4d8fb731adc67b52b8dd"
          }
        },
        "63e0564b0bd046e98464861f462bef2d": {
          "model_module": "@jupyter-widgets/controls",
          "model_name": "FloatProgressModel",
          "model_module_version": "1.5.0",
          "state": {
            "_view_name": "ProgressView",
            "style": "IPY_MODEL_b8a268fc84e14369bfc5312330de9a4a",
            "_dom_classes": [],
            "description": "",
            "_model_name": "FloatProgressModel",
            "bar_style": "success",
            "max": 5,
            "_view_module": "@jupyter-widgets/controls",
            "_model_module_version": "1.5.0",
            "value": 5,
            "_view_count": null,
            "_view_module_version": "1.5.0",
            "orientation": "horizontal",
            "min": 0,
            "description_tooltip": null,
            "_model_module": "@jupyter-widgets/controls",
            "layout": "IPY_MODEL_23495d126d9145d28e4e6539a73aba04"
          }
        },
        "74aa7bc121474c338fe58f3681737958": {
          "model_module": "@jupyter-widgets/controls",
          "model_name": "HTMLModel",
          "model_module_version": "1.5.0",
          "state": {
            "_view_name": "HTMLView",
            "style": "IPY_MODEL_7a85b431f0f040499be87da21ead7e58",
            "_dom_classes": [],
            "description": "",
            "_model_name": "HTMLModel",
            "placeholder": "​",
            "_view_module": "@jupyter-widgets/controls",
            "_model_module_version": "1.5.0",
            "value": " 5/5 [00:05&lt;00:00,  1.01s/it]",
            "_view_count": null,
            "_view_module_version": "1.5.0",
            "description_tooltip": null,
            "_model_module": "@jupyter-widgets/controls",
            "layout": "IPY_MODEL_134e9f9069b241d0bf689fc17fc94882"
          }
        },
        "08bb65fc13a74dd68a16662116093b75": {
          "model_module": "@jupyter-widgets/controls",
          "model_name": "DescriptionStyleModel",
          "model_module_version": "1.5.0",
          "state": {
            "_view_name": "StyleView",
            "_model_name": "DescriptionStyleModel",
            "description_width": "",
            "_view_module": "@jupyter-widgets/base",
            "_model_module_version": "1.5.0",
            "_view_count": null,
            "_view_module_version": "1.2.0",
            "_model_module": "@jupyter-widgets/controls"
          }
        },
        "95c9569f273d4d8fb731adc67b52b8dd": {
          "model_module": "@jupyter-widgets/base",
          "model_name": "LayoutModel",
          "model_module_version": "1.2.0",
          "state": {
            "_view_name": "LayoutView",
            "grid_template_rows": null,
            "right": null,
            "justify_content": null,
            "_view_module": "@jupyter-widgets/base",
            "overflow": null,
            "_model_module_version": "1.2.0",
            "_view_count": null,
            "flex_flow": null,
            "width": null,
            "min_width": null,
            "border": null,
            "align_items": null,
            "bottom": null,
            "_model_module": "@jupyter-widgets/base",
            "top": null,
            "grid_column": null,
            "overflow_y": null,
            "overflow_x": null,
            "grid_auto_flow": null,
            "grid_area": null,
            "grid_template_columns": null,
            "flex": null,
            "_model_name": "LayoutModel",
            "justify_items": null,
            "grid_row": null,
            "max_height": null,
            "align_content": null,
            "visibility": null,
            "align_self": null,
            "height": null,
            "min_height": null,
            "padding": null,
            "grid_auto_rows": null,
            "grid_gap": null,
            "max_width": null,
            "order": null,
            "_view_module_version": "1.2.0",
            "grid_template_areas": null,
            "object_position": null,
            "object_fit": null,
            "grid_auto_columns": null,
            "margin": null,
            "display": null,
            "left": null
          }
        },
        "b8a268fc84e14369bfc5312330de9a4a": {
          "model_module": "@jupyter-widgets/controls",
          "model_name": "ProgressStyleModel",
          "model_module_version": "1.5.0",
          "state": {
            "_view_name": "StyleView",
            "_model_name": "ProgressStyleModel",
            "description_width": "",
            "_view_module": "@jupyter-widgets/base",
            "_model_module_version": "1.5.0",
            "_view_count": null,
            "_view_module_version": "1.2.0",
            "bar_color": null,
            "_model_module": "@jupyter-widgets/controls"
          }
        },
        "23495d126d9145d28e4e6539a73aba04": {
          "model_module": "@jupyter-widgets/base",
          "model_name": "LayoutModel",
          "model_module_version": "1.2.0",
          "state": {
            "_view_name": "LayoutView",
            "grid_template_rows": null,
            "right": null,
            "justify_content": null,
            "_view_module": "@jupyter-widgets/base",
            "overflow": null,
            "_model_module_version": "1.2.0",
            "_view_count": null,
            "flex_flow": null,
            "width": null,
            "min_width": null,
            "border": null,
            "align_items": null,
            "bottom": null,
            "_model_module": "@jupyter-widgets/base",
            "top": null,
            "grid_column": null,
            "overflow_y": null,
            "overflow_x": null,
            "grid_auto_flow": null,
            "grid_area": null,
            "grid_template_columns": null,
            "flex": null,
            "_model_name": "LayoutModel",
            "justify_items": null,
            "grid_row": null,
            "max_height": null,
            "align_content": null,
            "visibility": null,
            "align_self": null,
            "height": null,
            "min_height": null,
            "padding": null,
            "grid_auto_rows": null,
            "grid_gap": null,
            "max_width": null,
            "order": null,
            "_view_module_version": "1.2.0",
            "grid_template_areas": null,
            "object_position": null,
            "object_fit": null,
            "grid_auto_columns": null,
            "margin": null,
            "display": null,
            "left": null
          }
        },
        "7a85b431f0f040499be87da21ead7e58": {
          "model_module": "@jupyter-widgets/controls",
          "model_name": "DescriptionStyleModel",
          "model_module_version": "1.5.0",
          "state": {
            "_view_name": "StyleView",
            "_model_name": "DescriptionStyleModel",
            "description_width": "",
            "_view_module": "@jupyter-widgets/base",
            "_model_module_version": "1.5.0",
            "_view_count": null,
            "_view_module_version": "1.2.0",
            "_model_module": "@jupyter-widgets/controls"
          }
        },
        "134e9f9069b241d0bf689fc17fc94882": {
          "model_module": "@jupyter-widgets/base",
          "model_name": "LayoutModel",
          "model_module_version": "1.2.0",
          "state": {
            "_view_name": "LayoutView",
            "grid_template_rows": null,
            "right": null,
            "justify_content": null,
            "_view_module": "@jupyter-widgets/base",
            "overflow": null,
            "_model_module_version": "1.2.0",
            "_view_count": null,
            "flex_flow": null,
            "width": null,
            "min_width": null,
            "border": null,
            "align_items": null,
            "bottom": null,
            "_model_module": "@jupyter-widgets/base",
            "top": null,
            "grid_column": null,
            "overflow_y": null,
            "overflow_x": null,
            "grid_auto_flow": null,
            "grid_area": null,
            "grid_template_columns": null,
            "flex": null,
            "_model_name": "LayoutModel",
            "justify_items": null,
            "grid_row": null,
            "max_height": null,
            "align_content": null,
            "visibility": null,
            "align_self": null,
            "height": null,
            "min_height": null,
            "padding": null,
            "grid_auto_rows": null,
            "grid_gap": null,
            "max_width": null,
            "order": null,
            "_view_module_version": "1.2.0",
            "grid_template_areas": null,
            "object_position": null,
            "object_fit": null,
            "grid_auto_columns": null,
            "margin": null,
            "display": null,
            "left": null
          }
        }
      }
    }
  },
  "cells": [
    {
      "cell_type": "markdown",
      "metadata": {
        "id": "view-in-github",
        "colab_type": "text"
      },
      "source": [
        "<a href=\"https://colab.research.google.com/github/infiniterik/python-tips/blob/main/PythonFeatures.ipynb\" target=\"_parent\"><img src=\"https://colab.research.google.com/assets/colab-badge.svg\" alt=\"Open In Colab\"/></a>"
      ]
    },
    {
      "cell_type": "markdown",
      "source": [
        "# Basics of python notebooks"
      ],
      "metadata": {
        "id": "W_c9kGib7MkI"
      }
    },
    {
      "cell_type": "markdown",
      "source": [
        "## Output\n",
        "By default, a notebook cell will output the last value it recieves."
      ],
      "metadata": {
        "id": "i0q5aeKB9Ki1"
      }
    },
    {
      "cell_type": "code",
      "source": [
        "'Hello, world'"
      ],
      "metadata": {
        "colab": {
          "base_uri": "https://localhost:8080/",
          "height": 295
        },
        "id": "nYS_v6hL7Uex",
        "outputId": "53511c4a-18e5-4afe-f97c-bb207bab1ebe"
      },
      "execution_count": null,
      "outputs": [
        {
          "output_type": "execute_result",
          "data": {
            "application/vnd.google.colaboratory.intrinsic+json": {
              "type": "string"
            },
            "text/plain": [
              "'Hello, world'"
            ]
          },
          "metadata": {},
          "execution_count": 1
        }
      ]
    },
    {
      "cell_type": "markdown",
      "source": [
        "It will also perform out any explicit print statements."
      ],
      "metadata": {
        "id": "2pHnWDfK7n9O"
      }
    },
    {
      "cell_type": "code",
      "source": [
        "print('Hello')\n",
        "'world' # Note that 'hello' doesn't have quotes, but 'world' does"
      ],
      "metadata": {
        "colab": {
          "base_uri": "https://localhost:8080/",
          "height": 193
        },
        "id": "7SSXt17x7nNW",
        "outputId": "a09752fe-2d18-4df6-e630-c1a1b86a924e"
      },
      "execution_count": null,
      "outputs": [
        {
          "output_type": "stream",
          "name": "stdout",
          "text": [
            "Hello\n"
          ]
        },
        {
          "output_type": "execute_result",
          "data": {
            "application/vnd.google.colaboratory.intrinsic+json": {
              "type": "string"
            },
            "text/plain": [
              "'world'"
            ]
          },
          "metadata": {},
          "execution_count": 2
        }
      ]
    },
    {
      "cell_type": "markdown",
      "source": [
        "If your code generates an image as the last line of the cell or explicitly displays an image, it will also show that."
      ],
      "metadata": {
        "id": "DvGq6h_T8Wts"
      }
    },
    {
      "cell_type": "code",
      "source": [
        "from IPython.display import Image\n",
        "Image(url= \"https://www.knox.edu/images/Offices/Communications/KnoxLogo/Knoxhorizpurple.jpg\")"
      ],
      "metadata": {
        "colab": {
          "base_uri": "https://localhost:8080/",
          "height": 113
        },
        "id": "VUStIoyb8MTE",
        "outputId": "d459182e-b9a2-4459-d7e3-0a3982c71e01"
      },
      "execution_count": null,
      "outputs": [
        {
          "output_type": "execute_result",
          "data": {
            "text/html": [
              "<img src=\"https://www.knox.edu/images/Offices/Communications/KnoxLogo/Knoxhorizpurple.jpg\"/>"
            ],
            "text/plain": [
              "<IPython.core.display.Image object>"
            ]
          },
          "metadata": {},
          "execution_count": 3
        }
      ]
    },
    {
      "cell_type": "markdown",
      "source": [
        "There are many libraries that provide \"widgets\" for python notebooks. One such library is `matplotlib` which can generate graphs and charts on the fly."
      ],
      "metadata": {
        "id": "3pghoSsG8zJu"
      }
    },
    {
      "cell_type": "markdown",
      "source": [
        ""
      ],
      "metadata": {
        "id": "0iJQ4gfV9IYq"
      }
    },
    {
      "cell_type": "markdown",
      "source": [
        "## Installing and Importing Libraries"
      ],
      "metadata": {
        "id": "sW8dcchAkp2X"
      }
    },
    {
      "cell_type": "code",
      "source": [
        "# Install libraries from the pypi repository\n",
        "!pip install datasets transformers"
      ],
      "metadata": {
        "colab": {
          "base_uri": "https://localhost:8080/"
        },
        "id": "rh5pL49tkyud",
        "outputId": "2ee79cd4-e8f6-434e-fde0-a9fac8250da8"
      },
      "execution_count": null,
      "outputs": [
        {
          "output_type": "stream",
          "name": "stdout",
          "text": [
            "Requirement already satisfied: datasets in /usr/local/lib/python3.7/dist-packages (1.17.0)\n",
            "Requirement already satisfied: transformers in /usr/local/lib/python3.7/dist-packages (4.15.0)\n",
            "Requirement already satisfied: numpy>=1.17 in /usr/local/lib/python3.7/dist-packages (from datasets) (1.19.5)\n",
            "Requirement already satisfied: tqdm>=4.62.1 in /usr/local/lib/python3.7/dist-packages (from datasets) (4.62.3)\n",
            "Requirement already satisfied: huggingface-hub<1.0.0,>=0.1.0 in /usr/local/lib/python3.7/dist-packages (from datasets) (0.4.0)\n",
            "Requirement already satisfied: packaging in /usr/local/lib/python3.7/dist-packages (from datasets) (21.3)\n",
            "Requirement already satisfied: pyarrow!=4.0.0,>=3.0.0 in /usr/local/lib/python3.7/dist-packages (from datasets) (3.0.0)\n",
            "Requirement already satisfied: dill in /usr/local/lib/python3.7/dist-packages (from datasets) (0.3.4)\n",
            "Requirement already satisfied: requests>=2.19.0 in /usr/local/lib/python3.7/dist-packages (from datasets) (2.23.0)\n",
            "Requirement already satisfied: xxhash in /usr/local/lib/python3.7/dist-packages (from datasets) (2.0.2)\n",
            "Requirement already satisfied: importlib-metadata in /usr/local/lib/python3.7/dist-packages (from datasets) (4.10.0)\n",
            "Requirement already satisfied: multiprocess in /usr/local/lib/python3.7/dist-packages (from datasets) (0.70.12.2)\n",
            "Requirement already satisfied: fsspec[http]>=2021.05.0 in /usr/local/lib/python3.7/dist-packages (from datasets) (2022.1.0)\n",
            "Requirement already satisfied: pandas in /usr/local/lib/python3.7/dist-packages (from datasets) (1.1.5)\n",
            "Requirement already satisfied: aiohttp in /usr/local/lib/python3.7/dist-packages (from datasets) (3.8.1)\n",
            "Requirement already satisfied: pyyaml in /usr/local/lib/python3.7/dist-packages (from huggingface-hub<1.0.0,>=0.1.0->datasets) (6.0)\n",
            "Requirement already satisfied: filelock in /usr/local/lib/python3.7/dist-packages (from huggingface-hub<1.0.0,>=0.1.0->datasets) (3.4.2)\n",
            "Requirement already satisfied: typing-extensions>=3.7.4.3 in /usr/local/lib/python3.7/dist-packages (from huggingface-hub<1.0.0,>=0.1.0->datasets) (3.10.0.2)\n",
            "Requirement already satisfied: pyparsing!=3.0.5,>=2.0.2 in /usr/local/lib/python3.7/dist-packages (from packaging->datasets) (3.0.6)\n",
            "Requirement already satisfied: chardet<4,>=3.0.2 in /usr/local/lib/python3.7/dist-packages (from requests>=2.19.0->datasets) (3.0.4)\n",
            "Requirement already satisfied: urllib3!=1.25.0,!=1.25.1,<1.26,>=1.21.1 in /usr/local/lib/python3.7/dist-packages (from requests>=2.19.0->datasets) (1.24.3)\n",
            "Requirement already satisfied: idna<3,>=2.5 in /usr/local/lib/python3.7/dist-packages (from requests>=2.19.0->datasets) (2.10)\n",
            "Requirement already satisfied: certifi>=2017.4.17 in /usr/local/lib/python3.7/dist-packages (from requests>=2.19.0->datasets) (2021.10.8)\n",
            "Requirement already satisfied: tokenizers<0.11,>=0.10.1 in /usr/local/lib/python3.7/dist-packages (from transformers) (0.10.3)\n",
            "Requirement already satisfied: sacremoses in /usr/local/lib/python3.7/dist-packages (from transformers) (0.0.47)\n",
            "Requirement already satisfied: regex!=2019.12.17 in /usr/local/lib/python3.7/dist-packages (from transformers) (2019.12.20)\n",
            "Requirement already satisfied: aiosignal>=1.1.2 in /usr/local/lib/python3.7/dist-packages (from aiohttp->datasets) (1.2.0)\n",
            "Requirement already satisfied: charset-normalizer<3.0,>=2.0 in /usr/local/lib/python3.7/dist-packages (from aiohttp->datasets) (2.0.10)\n",
            "Requirement already satisfied: attrs>=17.3.0 in /usr/local/lib/python3.7/dist-packages (from aiohttp->datasets) (21.4.0)\n",
            "Requirement already satisfied: async-timeout<5.0,>=4.0.0a3 in /usr/local/lib/python3.7/dist-packages (from aiohttp->datasets) (4.0.2)\n",
            "Requirement already satisfied: asynctest==0.13.0 in /usr/local/lib/python3.7/dist-packages (from aiohttp->datasets) (0.13.0)\n",
            "Requirement already satisfied: multidict<7.0,>=4.5 in /usr/local/lib/python3.7/dist-packages (from aiohttp->datasets) (5.2.0)\n",
            "Requirement already satisfied: yarl<2.0,>=1.0 in /usr/local/lib/python3.7/dist-packages (from aiohttp->datasets) (1.7.2)\n",
            "Requirement already satisfied: frozenlist>=1.1.1 in /usr/local/lib/python3.7/dist-packages (from aiohttp->datasets) (1.2.0)\n",
            "Requirement already satisfied: zipp>=0.5 in /usr/local/lib/python3.7/dist-packages (from importlib-metadata->datasets) (3.7.0)\n",
            "Requirement already satisfied: pytz>=2017.2 in /usr/local/lib/python3.7/dist-packages (from pandas->datasets) (2018.9)\n",
            "Requirement already satisfied: python-dateutil>=2.7.3 in /usr/local/lib/python3.7/dist-packages (from pandas->datasets) (2.8.2)\n",
            "Requirement already satisfied: six>=1.5 in /usr/local/lib/python3.7/dist-packages (from python-dateutil>=2.7.3->pandas->datasets) (1.15.0)\n",
            "Requirement already satisfied: joblib in /usr/local/lib/python3.7/dist-packages (from sacremoses->transformers) (1.1.0)\n",
            "Requirement already satisfied: click in /usr/local/lib/python3.7/dist-packages (from sacremoses->transformers) (7.1.2)\n"
          ]
        }
      ]
    },
    {
      "cell_type": "code",
      "source": [
        "# Import a library\n",
        "import nltk # Some libraries are pre-installed in the Colab environment\n",
        "\n",
        "# Import just part of a library\n",
        "from nltk import corpus\n",
        "from nltk.corpus import wordnet\n",
        "\n",
        "# You can also rename an import using the \"as\" keyword\n",
        "from nltk.corpus import wordnet as wn"
      ],
      "metadata": {
        "id": "by9-H4I1lB3E"
      },
      "execution_count": null,
      "outputs": []
    },
    {
      "cell_type": "markdown",
      "source": [
        "## Out-of-order execution\n",
        "Cells can be executed in any order. imports, variables, and functions all persist across cell executions. This can be useful for trying things out quickly - for example, if your code from a particular cell crashes, you can fix that cell and continue running. However, this means that you can lose track of the _state_ of your code. For example, if you ran the following three cells:"
      ],
      "metadata": {
        "id": "m0ZpCfKP9Tad"
      }
    },
    {
      "cell_type": "code",
      "source": [
        "# A\n",
        "mutation = 3"
      ],
      "metadata": {
        "id": "2UTp91d59-X4"
      },
      "execution_count": null,
      "outputs": []
    },
    {
      "cell_type": "code",
      "source": [
        "# B\n",
        "mutation += 1"
      ],
      "metadata": {
        "id": "oRfIFx_c-CSV"
      },
      "execution_count": null,
      "outputs": []
    },
    {
      "cell_type": "code",
      "source": [
        "# C\n",
        "mutation"
      ],
      "metadata": {
        "colab": {
          "base_uri": "https://localhost:8080/"
        },
        "id": "p1qIO3DK-GmE",
        "outputId": "1c957635-92df-442c-ce62-94fcafacd33f"
      },
      "execution_count": null,
      "outputs": [
        {
          "output_type": "execute_result",
          "data": {
            "text/plain": [
              "4"
            ]
          },
          "metadata": {},
          "execution_count": 8
        }
      ]
    },
    {
      "cell_type": "markdown",
      "source": [
        "You would get a different result if you ran `A->B->B-C` than if you just ran `A->B->C`. Unless you reset the entire notebook, the variable `mutation` will continue to exist after you run `A`.\n",
        "\n",
        "Since notebooks naturally encourage exploration, you might find yourself creating a cell to 'try out' a line of code only to delete it when you are done. Keep in mind that anything that you do in those cells may have a continuing impact after the cell is closed. It is a good idea to ensure that you can rerun your entire notebook by going to `Runtime->Restart and run all`."
      ],
      "metadata": {
        "id": "Ek8nCiSi-OPi"
      }
    },
    {
      "cell_type": "markdown",
      "source": [
        "# String Formatting\n",
        "\n",
        "Most standard/library types in Python print out a useful representation when directly passed to the `print(...)` function. For example:"
      ],
      "metadata": {
        "id": "VhR73Y0ywhG0"
      }
    },
    {
      "cell_type": "code",
      "source": [
        "print([1,2,3])"
      ],
      "metadata": {
        "colab": {
          "base_uri": "https://localhost:8080/"
        },
        "id": "6OIVh-W_yc_X",
        "outputId": "1ac9b9d1-2f8f-49e9-93e4-2f076853d639"
      },
      "execution_count": null,
      "outputs": [
        {
          "output_type": "stream",
          "name": "stdout",
          "text": [
            "[1, 2, 3]\n"
          ]
        }
      ]
    },
    {
      "cell_type": "markdown",
      "source": [
        "You can also print multiple things in one line, such as a string and another object:"
      ],
      "metadata": {
        "id": "JkgRBNJVyfxB"
      }
    },
    {
      "cell_type": "code",
      "source": [
        "print(\"My list is\", [1,2,3])"
      ],
      "metadata": {
        "colab": {
          "base_uri": "https://localhost:8080/"
        },
        "id": "NN7uGM6gywGk",
        "outputId": "d0b9e3e1-dd77-409a-c53c-3a7c79809b56"
      },
      "execution_count": null,
      "outputs": [
        {
          "output_type": "stream",
          "name": "stdout",
          "text": [
            "My list is [1, 2, 3]\n"
          ]
        }
      ]
    },
    {
      "cell_type": "markdown",
      "source": [
        "Sometimes, you may want to create more complex formatted strings for more readable output. One way to do this is using f-strings\n",
        "\n"
      ],
      "metadata": {
        "id": "zpxiX6UJy3VI"
      }
    },
    {
      "cell_type": "code",
      "source": [
        "name = \"World\"\n",
        "print(f'Hello, {name}')\n",
        "\n",
        "print(f'You can evaluate expressions in f-strings, too: {1}, {3*5}')\n",
        "print(f\"Even call functions: {len(name)}\")"
      ],
      "metadata": {
        "colab": {
          "base_uri": "https://localhost:8080/"
        },
        "id": "2Foznap4zpyc",
        "outputId": "a541323c-fd96-454d-f868-e6af292feba9"
      },
      "execution_count": null,
      "outputs": [
        {
          "output_type": "stream",
          "name": "stdout",
          "text": [
            "Hello, World\n",
            "You can evaluate expressions in f-strings, too: 1, 15\n",
            "Even call functions: 5\n"
          ]
        }
      ]
    },
    {
      "cell_type": "markdown",
      "source": [
        "This method replaces each instance of `{}` in your string with the arguments passed to `format()` in order. You can provide more complex directives inside the `{}`. Formatting can get quite complicated, but there are a few particularly useful pieces of syntax.\n",
        "\n",
        "The data type allows you to make conversions, for example, between `int` and `char` types:"
      ],
      "metadata": {
        "id": "QdAMWRkszhwJ"
      }
    },
    {
      "cell_type": "code",
      "source": [
        "print(f'{68:c}') # convert an int to a char\n",
        "print(f'{68:f}') # convert an int to a float"
      ],
      "metadata": {
        "colab": {
          "base_uri": "https://localhost:8080/"
        },
        "id": "3h_oUxxi0uEY",
        "outputId": "5745e6fe-ade5-4e54-f2d5-cbdfeb3e1286"
      },
      "execution_count": null,
      "outputs": [
        {
          "output_type": "stream",
          "name": "stdout",
          "text": [
            "D\n",
            "68.000000\n"
          ]
        }
      ]
    },
    {
      "cell_type": "markdown",
      "source": [
        "You can also truncate or pad your outputs to fit nicely:"
      ],
      "metadata": {
        "id": "DrpjVyVL2elX"
      }
    },
    {
      "cell_type": "code",
      "source": [
        "print(f'{1/3:.2f}') # limit to 2 decimal places\n",
        "print('{1:0>2d}')  # or pad with a character\n",
        "\n",
        "for i in range(12):\n",
        "  print(f'{i:0>2d} aligned') # keep outputs aligned for easy reading"
      ],
      "metadata": {
        "colab": {
          "base_uri": "https://localhost:8080/"
        },
        "id": "54BsG2DG2kcd",
        "outputId": "4af76f1e-c680-4c63-981a-3b79d6a8885d"
      },
      "execution_count": null,
      "outputs": [
        {
          "output_type": "stream",
          "name": "stdout",
          "text": [
            "0.33\n",
            "{1:0>2d}\n",
            "00 aligned\n",
            "01 aligned\n",
            "02 aligned\n",
            "03 aligned\n",
            "04 aligned\n",
            "05 aligned\n",
            "06 aligned\n",
            "07 aligned\n",
            "08 aligned\n",
            "09 aligned\n",
            "10 aligned\n",
            "11 aligned\n"
          ]
        }
      ]
    },
    {
      "cell_type": "markdown",
      "source": [
        "### How to translate instructions regarding `.format()` to f-strings\n",
        "f-strings are relatively new, so a lot of guides refer to `.format()` instead. You can use most of the formatting directives from `.format()` in f-strings. You can translate `'{:.2f}'.format(num)` to an f-string by moving the variable name into the `{}`-expression: `f'{num:.2f}'` generates the same string."
      ],
      "metadata": {
        "id": "k287EYZy5ON8"
      }
    },
    {
      "cell_type": "markdown",
      "source": [
        "# Basic iteration and Destructuring"
      ],
      "metadata": {
        "id": "1onAJoDh5KL3"
      }
    },
    {
      "cell_type": "code",
      "source": [
        "# The basic for loop uses range() in python\n",
        "lst = [1,2,3]\n",
        "\n",
        "for i in range(len(lst)):\n",
        "  lst[i]"
      ],
      "metadata": {
        "id": "iEn9lBoClx6Y"
      },
      "execution_count": null,
      "outputs": []
    },
    {
      "cell_type": "code",
      "source": [
        "# you can iterate over any collection\n",
        "for i in lst:\n",
        "  print(i)"
      ],
      "metadata": {
        "colab": {
          "base_uri": "https://localhost:8080/"
        },
        "id": "0CP1x5FHmJTc",
        "outputId": "80f2be35-0b31-4e2b-d85e-5c22cebd7dfc"
      },
      "execution_count": null,
      "outputs": [
        {
          "output_type": "stream",
          "name": "stdout",
          "text": [
            "1\n",
            "2\n",
            "3\n"
          ]
        }
      ]
    },
    {
      "cell_type": "code",
      "source": [
        "# You can iterate over both keys and values\n",
        "\n",
        "for elements in enumerate(lst):\n",
        "  print(elements[0], elements[1])"
      ],
      "metadata": {
        "colab": {
          "base_uri": "https://localhost:8080/"
        },
        "id": "RKExfAQemVj8",
        "outputId": "0c625b8e-6ba9-4c73-c2eb-9c52fafcd927"
      },
      "execution_count": null,
      "outputs": [
        {
          "output_type": "stream",
          "name": "stdout",
          "text": [
            "0 1\n",
            "1 2\n",
            "2 3\n"
          ]
        }
      ]
    },
    {
      "cell_type": "code",
      "source": [
        "# Or use \"unpacking\" to break up lists/tuples\n",
        "\n",
        "for index, value in enumerate(lst):\n",
        "  print(index, value)"
      ],
      "metadata": {
        "colab": {
          "base_uri": "https://localhost:8080/"
        },
        "id": "qfxrYUkWm7AJ",
        "outputId": "54817b6b-2b73-4aba-9121-56bf6bd5fad5"
      },
      "execution_count": null,
      "outputs": [
        {
          "output_type": "stream",
          "name": "stdout",
          "text": [
            "0 1\n",
            "1 2\n",
            "2 3\n"
          ]
        }
      ]
    },
    {
      "cell_type": "code",
      "source": [
        "# You can unpack in any assignment expression\n",
        "a, b = (1,2)\n",
        "print(a, b)"
      ],
      "metadata": {
        "colab": {
          "base_uri": "https://localhost:8080/"
        },
        "id": "gUrh0myHnRIs",
        "outputId": "9daf8737-eae1-4c13-8e69-0dd9b843bf04"
      },
      "execution_count": null,
      "outputs": [
        {
          "output_type": "stream",
          "name": "stdout",
          "text": [
            "1 2\n"
          ]
        }
      ]
    },
    {
      "cell_type": "markdown",
      "source": [
        "# List Comprehensions"
      ],
      "metadata": {
        "id": "rwfvj8vau9VA"
      }
    },
    {
      "cell_type": "markdown",
      "source": [
        "## Basic List Comprehensions"
      ],
      "metadata": {
        "id": "ECxUGw0LnbS1"
      }
    },
    {
      "cell_type": "code",
      "source": [
        "lst = [12,23,142,12,45,5,187]\n",
        "# You can index from the beginning or the end of a list\n",
        "\n",
        "print(lst[1])\n",
        "print(lst[-1])"
      ],
      "metadata": {
        "colab": {
          "base_uri": "https://localhost:8080/"
        },
        "id": "zC1ODMbrn-Ma",
        "outputId": "33a8f70c-e8c1-4081-9a3a-687cefcdf786"
      },
      "execution_count": null,
      "outputs": [
        {
          "output_type": "stream",
          "name": "stdout",
          "text": [
            "23\n",
            "187\n"
          ]
        }
      ]
    },
    {
      "cell_type": "code",
      "source": [
        "# You can take a 'slice' of a list\n",
        "\n",
        "print(lst[:3]) # first 3 elements of lst\n",
        "print(lst[-3:]) # last 3 elements of lst\n",
        "\n",
        "# lst[a:b] takes the elements between index a and b"
      ],
      "metadata": {
        "colab": {
          "base_uri": "https://localhost:8080/"
        },
        "id": "25UPj4JloP-R",
        "outputId": "4e8eec03-fbab-4c9e-e66b-5585d9ee79f5"
      },
      "execution_count": null,
      "outputs": [
        {
          "output_type": "stream",
          "name": "stdout",
          "text": [
            "[12, 23, 142]\n",
            "[45, 5, 187]\n"
          ]
        }
      ]
    },
    {
      "cell_type": "code",
      "source": [
        "# You can take every nth element of a list\n",
        "print(lst[::2])\n",
        "print(lst[1:6:2])"
      ],
      "metadata": {
        "colab": {
          "base_uri": "https://localhost:8080/"
        },
        "id": "K2eDqRs-oZaN",
        "outputId": "28826256-6355-49d2-978b-fb15ab1096eb"
      },
      "execution_count": null,
      "outputs": [
        {
          "output_type": "stream",
          "name": "stdout",
          "text": [
            "[12, 142, 45, 187]\n",
            "[23, 12, 5]\n"
          ]
        }
      ]
    },
    {
      "cell_type": "markdown",
      "source": [
        "## Advanced List Comprehensions"
      ],
      "metadata": {
        "id": "4QvtH7eYpCeS"
      }
    },
    {
      "cell_type": "code",
      "source": [
        "# Create a list using a for loop in one line\n",
        "[3*i for i in range(3)]"
      ],
      "metadata": {
        "colab": {
          "base_uri": "https://localhost:8080/"
        },
        "id": "hKbVZaRPoxxs",
        "outputId": "932f4da1-c0f3-4094-c98e-6566d50c8c19"
      },
      "execution_count": null,
      "outputs": [
        {
          "output_type": "execute_result",
          "data": {
            "text/plain": [
              "[0, 3, 6]"
            ]
          },
          "metadata": {},
          "execution_count": 22
        }
      ]
    },
    {
      "cell_type": "code",
      "source": [
        "# Add a conditional to your loop\n",
        "[i for i in range(20) if i % 2 == 1]"
      ],
      "metadata": {
        "colab": {
          "base_uri": "https://localhost:8080/"
        },
        "id": "1CW0--vcpPX7",
        "outputId": "8e4a90f4-4ad8-4d95-d700-b4d590262075"
      },
      "execution_count": null,
      "outputs": [
        {
          "output_type": "execute_result",
          "data": {
            "text/plain": [
              "[1, 3, 5, 7, 9, 11, 13, 15, 17, 19]"
            ]
          },
          "metadata": {},
          "execution_count": 23
        }
      ]
    },
    {
      "cell_type": "code",
      "source": [
        "# Nested for loops in one line\n",
        "[(i, j) for i in range(5) for j in range(5,10)]\n",
        "# The last for loop is the outer loop"
      ],
      "metadata": {
        "colab": {
          "base_uri": "https://localhost:8080/"
        },
        "id": "gJzMP9nkpi3J",
        "outputId": "9c806280-23e8-48ae-b6f1-404804a3e013"
      },
      "execution_count": null,
      "outputs": [
        {
          "output_type": "execute_result",
          "data": {
            "text/plain": [
              "[(0, 5),\n",
              " (0, 6),\n",
              " (0, 7),\n",
              " (0, 8),\n",
              " (0, 9),\n",
              " (1, 5),\n",
              " (1, 6),\n",
              " (1, 7),\n",
              " (1, 8),\n",
              " (1, 9),\n",
              " (2, 5),\n",
              " (2, 6),\n",
              " (2, 7),\n",
              " (2, 8),\n",
              " (2, 9),\n",
              " (3, 5),\n",
              " (3, 6),\n",
              " (3, 7),\n",
              " (3, 8),\n",
              " (3, 9),\n",
              " (4, 5),\n",
              " (4, 6),\n",
              " (4, 7),\n",
              " (4, 8),\n",
              " (4, 9)]"
            ]
          },
          "metadata": {},
          "execution_count": 24
        }
      ]
    },
    {
      "cell_type": "code",
      "source": [
        "# You can also create a dictionary in a single line\n",
        "{i: i*5 for i in range(12)}"
      ],
      "metadata": {
        "colab": {
          "base_uri": "https://localhost:8080/"
        },
        "id": "nbDMP9eAptPp",
        "outputId": "910d4172-ed0e-46cc-db61-ffb29ac89122"
      },
      "execution_count": null,
      "outputs": [
        {
          "output_type": "execute_result",
          "data": {
            "text/plain": [
              "{0: 0,\n",
              " 1: 5,\n",
              " 2: 10,\n",
              " 3: 15,\n",
              " 4: 20,\n",
              " 5: 25,\n",
              " 6: 30,\n",
              " 7: 35,\n",
              " 8: 40,\n",
              " 9: 45,\n",
              " 10: 50,\n",
              " 11: 55}"
            ]
          },
          "metadata": {},
          "execution_count": 25
        }
      ]
    },
    {
      "cell_type": "code",
      "source": [
        "# or a set\n",
        "{i%5 for i in range(1232)}"
      ],
      "metadata": {
        "colab": {
          "base_uri": "https://localhost:8080/"
        },
        "id": "JRDVxcaKp-sM",
        "outputId": "4061fdc6-af14-4738-af1b-3df32b326c06"
      },
      "execution_count": null,
      "outputs": [
        {
          "output_type": "execute_result",
          "data": {
            "text/plain": [
              "{0, 1, 2, 3, 4}"
            ]
          },
          "metadata": {},
          "execution_count": 26
        }
      ]
    },
    {
      "cell_type": "markdown",
      "source": [
        "# Lambdas\n",
        "\n",
        "Lambdas are a compact way to define a function inline."
      ],
      "metadata": {
        "id": "ejhdtpSiqax7"
      }
    },
    {
      "cell_type": "code",
      "source": [
        "foo = lambda x: 3*x\n",
        "foo(3)"
      ],
      "metadata": {
        "colab": {
          "base_uri": "https://localhost:8080/"
        },
        "id": "Sx8EQVGr_pKE",
        "outputId": "5c58e50a-889f-469f-d6c4-93c6e82df49b"
      },
      "execution_count": null,
      "outputs": [
        {
          "output_type": "execute_result",
          "data": {
            "text/plain": [
              "9"
            ]
          },
          "metadata": {},
          "execution_count": 27
        }
      ]
    },
    {
      "cell_type": "markdown",
      "source": [
        "Lambdas can access global variables, but any variable and take 0 or more arguments, just like any other function."
      ],
      "metadata": {
        "id": "Cs2_30cvAxkv"
      }
    },
    {
      "cell_type": "code",
      "source": [
        "g = 3\n",
        "bar = lambda : g\n",
        "bar()"
      ],
      "metadata": {
        "colab": {
          "base_uri": "https://localhost:8080/"
        },
        "id": "vl_dqKVtAqDb",
        "outputId": "13cee628-03b6-4c05-eeea-d0647ba3248e"
      },
      "execution_count": null,
      "outputs": [
        {
          "output_type": "execute_result",
          "data": {
            "text/plain": [
              "3"
            ]
          },
          "metadata": {},
          "execution_count": 28
        }
      ]
    },
    {
      "cell_type": "markdown",
      "source": [
        "Lambdas can be particularly useful for small functions that you pass as an argument to other functions."
      ],
      "metadata": {
        "id": "uYNArNcR_2j4"
      }
    },
    {
      "cell_type": "markdown",
      "source": [
        "# Collections"
      ],
      "metadata": {
        "id": "6LE9F7nIqOFH"
      }
    },
    {
      "cell_type": "markdown",
      "source": [
        "## Sets\n",
        "\n",
        "Python has a built-in `set` class which provides an unordered collection with constant-time membership checks. Sets remove duplicates."
      ],
      "metadata": {
        "id": "aal5G0grwOxj"
      }
    },
    {
      "cell_type": "code",
      "source": [
        "# Convert a list into a set\n",
        "set([1,2,3,3,4,5])"
      ],
      "metadata": {
        "colab": {
          "base_uri": "https://localhost:8080/"
        },
        "id": "jw0M2dbqwSRI",
        "outputId": "19796763-6927-4eda-d6ef-68580c8825d7"
      },
      "execution_count": null,
      "outputs": [
        {
          "output_type": "execute_result",
          "data": {
            "text/plain": [
              "{1, 2, 3, 4, 5}"
            ]
          },
          "metadata": {},
          "execution_count": 29
        }
      ]
    },
    {
      "cell_type": "markdown",
      "source": [
        "## Dictionaries\n",
        "\n",
        "Dictionaries store key/value pairs with constant time lookup for keys. Each key must be unique. If a repeat key is added, the original value is overwritten."
      ],
      "metadata": {
        "id": "LzJLVZfturUk"
      }
    },
    {
      "cell_type": "markdown",
      "source": [
        "### Creating a dictionary"
      ],
      "metadata": {
        "id": "V9DlI6QAkX7R"
      }
    },
    {
      "cell_type": "code",
      "source": [
        "d = {'a': 1, 'c' : 2}"
      ],
      "metadata": {
        "id": "oJAYbsB3t2ab"
      },
      "execution_count": null,
      "outputs": []
    },
    {
      "cell_type": "markdown",
      "source": [
        "Positional arguments are automatically converted to strings"
      ],
      "metadata": {
        "id": "4CE6CigjkfSB"
      }
    },
    {
      "cell_type": "code",
      "source": [
        "d2 = dict(a=1, c=2)"
      ],
      "metadata": {
        "id": "shCQJ2QSknpo"
      },
      "execution_count": null,
      "outputs": []
    },
    {
      "cell_type": "markdown",
      "source": [
        "### Iterating over dictionaries\n",
        "\n",
        "You can iterate over just the keys in a dictionary"
      ],
      "metadata": {
        "id": "6w9C7qm4kq2C"
      }
    },
    {
      "cell_type": "code",
      "source": [
        "for k in d:\n",
        "  print(k)"
      ],
      "metadata": {
        "colab": {
          "base_uri": "https://localhost:8080/"
        },
        "id": "30dTmETwjbac",
        "outputId": "f7ac0e45-a28c-4c9e-c532-53c1f7f36230"
      },
      "execution_count": null,
      "outputs": [
        {
          "output_type": "stream",
          "name": "stdout",
          "text": [
            "a\n",
            "c\n"
          ]
        }
      ]
    },
    {
      "cell_type": "markdown",
      "source": [
        "Or, more explicitly"
      ],
      "metadata": {
        "id": "IMpJzK4lk2IL"
      }
    },
    {
      "cell_type": "code",
      "source": [
        "for k in d.values():\n",
        "  print(k)"
      ],
      "metadata": {
        "colab": {
          "base_uri": "https://localhost:8080/"
        },
        "id": "hN4a6iVaj6g0",
        "outputId": "af534bd5-fbe2-417e-e073-ff34cb03cb7d"
      },
      "execution_count": null,
      "outputs": [
        {
          "output_type": "stream",
          "name": "stdout",
          "text": [
            "1\n",
            "2\n"
          ]
        }
      ]
    },
    {
      "cell_type": "markdown",
      "source": [
        "Or just the values in a dictionary"
      ],
      "metadata": {
        "id": "6mJGmmenk7qL"
      }
    },
    {
      "cell_type": "code",
      "source": [
        "for v in d.values():\n",
        "  print(v)"
      ],
      "metadata": {
        "colab": {
          "base_uri": "https://localhost:8080/"
        },
        "id": "x0LkdBgsjhZ-",
        "outputId": "3ca2eb8e-b139-40d9-d109-4e158df24503"
      },
      "execution_count": null,
      "outputs": [
        {
          "output_type": "stream",
          "name": "stdout",
          "text": [
            "1\n",
            "2\n"
          ]
        }
      ]
    },
    {
      "cell_type": "markdown",
      "source": [
        "Or both keys AND values simultaneously"
      ],
      "metadata": {
        "id": "l86GxeZJlCOH"
      }
    },
    {
      "cell_type": "code",
      "source": [
        "for k, v in d.items():\n",
        "  print(k, \"->\", v)"
      ],
      "metadata": {
        "colab": {
          "base_uri": "https://localhost:8080/"
        },
        "id": "c45jHabxjtVE",
        "outputId": "db62b1dd-5998-4060-e0ce-a4545fb70c3a"
      },
      "execution_count": null,
      "outputs": [
        {
          "output_type": "stream",
          "name": "stdout",
          "text": [
            "a -> 1\n",
            "c -> 2\n"
          ]
        }
      ]
    },
    {
      "cell_type": "markdown",
      "source": [
        "### Notes about keys"
      ],
      "metadata": {
        "id": "U1aw1aK9lEun"
      }
    },
    {
      "cell_type": "markdown",
      "source": [
        "Keys in dictionaries must have a `__hash__` function. This function should return an `int` with the constraint that any two items of a type that are equal should have the same hash value.\n",
        "\n",
        "If you try to add a key without a defined `__hash__` function, you will get an error:"
      ],
      "metadata": {
        "id": "m0nL1fNslQ1D"
      }
    },
    {
      "cell_type": "code",
      "source": [
        "d[set()] = 3 # will not work"
      ],
      "metadata": {
        "colab": {
          "base_uri": "https://localhost:8080/",
          "height": 164
        },
        "id": "oDfG7dpomEj-",
        "outputId": "e0cb3da4-c429-4b7e-bd5f-e2c4198cf433"
      },
      "execution_count": null,
      "outputs": [
        {
          "output_type": "error",
          "ename": "TypeError",
          "evalue": "ignored",
          "traceback": [
            "\u001b[0;31m---------------------------------------------------------------------------\u001b[0m",
            "\u001b[0;31mTypeError\u001b[0m                                 Traceback (most recent call last)",
            "\u001b[0;32m<ipython-input-37-4d6212cf9971>\u001b[0m in \u001b[0;36m<module>\u001b[0;34m()\u001b[0m\n\u001b[0;32m----> 1\u001b[0;31m \u001b[0md\u001b[0m\u001b[0;34m[\u001b[0m\u001b[0mset\u001b[0m\u001b[0;34m(\u001b[0m\u001b[0;34m)\u001b[0m\u001b[0;34m]\u001b[0m \u001b[0;34m=\u001b[0m \u001b[0;36m3\u001b[0m \u001b[0;31m# will not work\u001b[0m\u001b[0;34m\u001b[0m\u001b[0;34m\u001b[0m\u001b[0m\n\u001b[0m",
            "\u001b[0;31mTypeError\u001b[0m: unhashable type: 'set'"
          ]
        }
      ]
    },
    {
      "cell_type": "markdown",
      "source": [
        "A regular dictionary\n",
        "will raise a `KeyError` if you try to access a key that is not present:"
      ],
      "metadata": {
        "id": "BfP0N1mutTVl"
      }
    },
    {
      "cell_type": "code",
      "source": [
        "d['b'] # will not work"
      ],
      "metadata": {
        "colab": {
          "base_uri": "https://localhost:8080/",
          "height": 164
        },
        "id": "pf5EOWhNmS0u",
        "outputId": "d4bf4bca-7900-47ed-f067-d0ba4cfea439"
      },
      "execution_count": null,
      "outputs": [
        {
          "output_type": "error",
          "ename": "KeyError",
          "evalue": "ignored",
          "traceback": [
            "\u001b[0;31m---------------------------------------------------------------------------\u001b[0m",
            "\u001b[0;31mKeyError\u001b[0m                                  Traceback (most recent call last)",
            "\u001b[0;32m<ipython-input-38-f07dc34b25ec>\u001b[0m in \u001b[0;36m<module>\u001b[0;34m()\u001b[0m\n\u001b[0;32m----> 1\u001b[0;31m \u001b[0md\u001b[0m\u001b[0;34m[\u001b[0m\u001b[0;34m'b'\u001b[0m\u001b[0;34m]\u001b[0m \u001b[0;31m# will not work\u001b[0m\u001b[0;34m\u001b[0m\u001b[0;34m\u001b[0m\u001b[0m\n\u001b[0m",
            "\u001b[0;31mKeyError\u001b[0m: 'b'"
          ]
        }
      ]
    },
    {
      "cell_type": "markdown",
      "source": [
        "The immediate solution is to wrap this in an if statement:"
      ],
      "metadata": {
        "id": "jYtg93qGmXWl"
      }
    },
    {
      "cell_type": "code",
      "source": [
        "if 'b' in d:\n",
        "  print(d['b'])\n",
        "else:\n",
        "  print(\"'b' not found\")"
      ],
      "metadata": {
        "colab": {
          "base_uri": "https://localhost:8080/"
        },
        "id": "6fX609tNt-fh",
        "outputId": "eacf86ac-cd1a-4795-c8f8-55519158fd0c"
      },
      "execution_count": null,
      "outputs": [
        {
          "output_type": "stream",
          "name": "stdout",
          "text": [
            "'b' not found\n"
          ]
        }
      ]
    },
    {
      "cell_type": "markdown",
      "source": [
        "or use `.get()`\n"
      ],
      "metadata": {
        "id": "86qlZUUKuC8O"
      }
    },
    {
      "cell_type": "code",
      "source": [
        "d.get('b', -1) # the second argument is the backoff value, can be None"
      ],
      "metadata": {
        "colab": {
          "base_uri": "https://localhost:8080/"
        },
        "id": "VaDI1tPWtrBJ",
        "outputId": "aebd8e2e-75e2-4bcb-8611-9a2f6c8fca3c"
      },
      "execution_count": null,
      "outputs": [
        {
          "output_type": "execute_result",
          "data": {
            "text/plain": [
              "-1"
            ]
          },
          "metadata": {},
          "execution_count": 40
        }
      ]
    },
    {
      "cell_type": "markdown",
      "source": [
        "## Convenience"
      ],
      "metadata": {
        "id": "gRTa34rLBFPw"
      }
    },
    {
      "cell_type": "markdown",
      "source": [
        "### Default Dictionary\n",
        "\n",
        "Sometimes, you want to create a key in a dictionary when you query it. \n",
        "\n",
        "defaultdicts are a wrapper around the basic `dict` type which allows you to define a default value for unseen keys. Every time a new key is queried, if it doesnt exist, the provided function is run to retrieve the default value."
      ],
      "metadata": {
        "id": "1iMxlMmNuhrU"
      }
    },
    {
      "cell_type": "code",
      "source": [
        "from collections import defaultdict as ddict\n",
        "\n",
        "default = ddict(lambda: -1)\n",
        "default['a'] = 1\n",
        "default['c'] = 2\n",
        "default['a']"
      ],
      "metadata": {
        "colab": {
          "base_uri": "https://localhost:8080/"
        },
        "id": "vVJIAI8eqgjx",
        "outputId": "da0857cc-936e-4ed3-dbf4-e307037a5bf4"
      },
      "execution_count": null,
      "outputs": [
        {
          "output_type": "execute_result",
          "data": {
            "text/plain": [
              "1"
            ]
          },
          "metadata": {},
          "execution_count": 41
        }
      ]
    },
    {
      "cell_type": "code",
      "source": [
        "default['b']"
      ],
      "metadata": {
        "colab": {
          "base_uri": "https://localhost:8080/"
        },
        "id": "NnXZVITG69AU",
        "outputId": "9c2af958-01e9-4521-8a01-f9da9a89a99a"
      },
      "execution_count": null,
      "outputs": [
        {
          "output_type": "execute_result",
          "data": {
            "text/plain": [
              "-1"
            ]
          },
          "metadata": {},
          "execution_count": 42
        }
      ]
    },
    {
      "cell_type": "code",
      "source": [
        "default['c']"
      ],
      "metadata": {
        "colab": {
          "base_uri": "https://localhost:8080/"
        },
        "id": "I4pC2Y6R7COY",
        "outputId": "75e3de62-595a-4d20-ae6d-d55af1ab4adc"
      },
      "execution_count": null,
      "outputs": [
        {
          "output_type": "execute_result",
          "data": {
            "text/plain": [
              "2"
            ]
          },
          "metadata": {},
          "execution_count": 43
        }
      ]
    },
    {
      "cell_type": "code",
      "source": [
        "default.keys()"
      ],
      "metadata": {
        "colab": {
          "base_uri": "https://localhost:8080/"
        },
        "id": "jNPuQW-07E4-",
        "outputId": "771a751e-43b8-490d-a200-d433c9435198"
      },
      "execution_count": null,
      "outputs": [
        {
          "output_type": "execute_result",
          "data": {
            "text/plain": [
              "dict_keys(['a', 'c', 'b'])"
            ]
          },
          "metadata": {},
          "execution_count": 44
        }
      ]
    },
    {
      "cell_type": "markdown",
      "source": [
        "Your `defaultdict` will create an entry for the key when you query using `d[query]`. If you do not want this behavior, you should use `d.get()` instead."
      ],
      "metadata": {
        "id": "xUpAYc_QB-hl"
      }
    },
    {
      "cell_type": "markdown",
      "source": [
        "### Counters\n",
        "\n",
        "Counters are a wrapper around the basic `dict` type to facilitate quickly counting large numbers of things. They have a default value of `0` for any key and allow quickly adding keys and values using the `+` operator."
      ],
      "metadata": {
        "id": "WkrCSCn9v3TI"
      }
    },
    {
      "cell_type": "code",
      "source": [
        "from collections import Counter\n",
        "\n",
        "first = Counter()\n",
        "first['a'] # the count for `a` initializes to 0"
      ],
      "metadata": {
        "colab": {
          "base_uri": "https://localhost:8080/"
        },
        "id": "l3OEjzDYv2SX",
        "outputId": "7ca16ff8-d729-4d8a-ac8f-fbfab8bfd498"
      },
      "execution_count": null,
      "outputs": [
        {
          "output_type": "execute_result",
          "data": {
            "text/plain": [
              "0"
            ]
          },
          "metadata": {},
          "execution_count": 45
        }
      ]
    },
    {
      "cell_type": "code",
      "source": [
        "first.keys() # simply querying the Counter did not add the key"
      ],
      "metadata": {
        "colab": {
          "base_uri": "https://localhost:8080/"
        },
        "id": "_NmUNiw5CvHg",
        "outputId": "70e10a0b-0105-4dfb-f95f-d0bc93618054"
      },
      "execution_count": null,
      "outputs": [
        {
          "output_type": "execute_result",
          "data": {
            "text/plain": [
              "dict_keys([])"
            ]
          },
          "metadata": {},
          "execution_count": 46
        }
      ]
    },
    {
      "cell_type": "code",
      "source": [
        "first['a'] = 0 # now we have set a value\n",
        "first"
      ],
      "metadata": {
        "colab": {
          "base_uri": "https://localhost:8080/"
        },
        "id": "3hDe-9FbC78C",
        "outputId": "38c92edb-d284-4106-8066-e0573f12f403"
      },
      "execution_count": null,
      "outputs": [
        {
          "output_type": "execute_result",
          "data": {
            "text/plain": [
              "Counter({'a': 0})"
            ]
          },
          "metadata": {},
          "execution_count": 47
        }
      ]
    },
    {
      "cell_type": "code",
      "source": [
        "first['b'] += 1 # you can increment an unseen key\n",
        "first"
      ],
      "metadata": {
        "colab": {
          "base_uri": "https://localhost:8080/"
        },
        "id": "YUutojbrDDcp",
        "outputId": "dd4120e7-3e1a-40b4-af6a-a8d504a2c947"
      },
      "execution_count": null,
      "outputs": [
        {
          "output_type": "execute_result",
          "data": {
            "text/plain": [
              "Counter({'a': 0, 'b': 1})"
            ]
          },
          "metadata": {},
          "execution_count": 48
        }
      ]
    },
    {
      "cell_type": "markdown",
      "source": [
        "You can create Counters in a variety of ways."
      ],
      "metadata": {
        "id": "8tN1FLwCDVEr"
      }
    },
    {
      "cell_type": "code",
      "source": [
        "second = Counter(['b', 'c'])\n",
        "second"
      ],
      "metadata": {
        "colab": {
          "base_uri": "https://localhost:8080/"
        },
        "id": "66q44dymDPW0",
        "outputId": "6625c1c6-3268-4869-9de1-29aa5e90ebc4"
      },
      "execution_count": null,
      "outputs": [
        {
          "output_type": "execute_result",
          "data": {
            "text/plain": [
              "Counter({'b': 1, 'c': 1})"
            ]
          },
          "metadata": {},
          "execution_count": 49
        }
      ]
    },
    {
      "cell_type": "code",
      "source": [
        "third = Counter({'a': 1, 'b': 1})\n",
        "third"
      ],
      "metadata": {
        "colab": {
          "base_uri": "https://localhost:8080/"
        },
        "id": "E9jkVAooDglH",
        "outputId": "9eaf1eab-32cc-4510-d87c-ddf4c55f61bf"
      },
      "execution_count": null,
      "outputs": [
        {
          "output_type": "execute_result",
          "data": {
            "text/plain": [
              "Counter({'a': 1, 'b': 1})"
            ]
          },
          "metadata": {},
          "execution_count": 50
        }
      ]
    },
    {
      "cell_type": "markdown",
      "source": [
        "Creating a counter from a dictionary can have unexpected results."
      ],
      "metadata": {
        "id": "EhFRx1i9DxHQ"
      }
    },
    {
      "cell_type": "code",
      "source": [
        "fourth = Counter({'a': \"hello\", 'b': []})\n",
        "fourth"
      ],
      "metadata": {
        "colab": {
          "base_uri": "https://localhost:8080/"
        },
        "id": "861lEwzPDskb",
        "outputId": "f5f7a69a-7450-46d2-a3fe-8d2caf486d7b"
      },
      "execution_count": null,
      "outputs": [
        {
          "output_type": "execute_result",
          "data": {
            "text/plain": [
              "Counter({'a': 'hello', 'b': []})"
            ]
          },
          "metadata": {},
          "execution_count": 51
        }
      ]
    },
    {
      "cell_type": "markdown",
      "source": [
        "You can add values into counters"
      ],
      "metadata": {
        "id": "TB54OiSVEYMh"
      }
    },
    {
      "cell_type": "code",
      "source": [
        "first['a'] += 2\n",
        "first"
      ],
      "metadata": {
        "colab": {
          "base_uri": "https://localhost:8080/"
        },
        "id": "lZUAtJbcEa2C",
        "outputId": "197d0472-80ff-48a3-899d-38b82b0919d4"
      },
      "execution_count": null,
      "outputs": [
        {
          "output_type": "execute_result",
          "data": {
            "text/plain": [
              "Counter({'a': 2, 'b': 1})"
            ]
          },
          "metadata": {},
          "execution_count": 52
        }
      ]
    },
    {
      "cell_type": "markdown",
      "source": [
        "Adding two counters together creates a new counter"
      ],
      "metadata": {
        "id": "x4lfkTxYEG9F"
      }
    },
    {
      "cell_type": "code",
      "source": [
        "first + second"
      ],
      "metadata": {
        "colab": {
          "base_uri": "https://localhost:8080/"
        },
        "id": "mTyzJr3uD_2q",
        "outputId": "c43fa168-e2af-4a0a-ff17-0aa8ef6ff651"
      },
      "execution_count": null,
      "outputs": [
        {
          "output_type": "execute_result",
          "data": {
            "text/plain": [
              "Counter({'a': 2, 'b': 2, 'c': 1})"
            ]
          },
          "metadata": {},
          "execution_count": 53
        }
      ]
    },
    {
      "cell_type": "markdown",
      "source": [
        "but leaves the originals unchanged"
      ],
      "metadata": {
        "id": "d6cr7KLyELCB"
      }
    },
    {
      "cell_type": "code",
      "source": [
        "first, second"
      ],
      "metadata": {
        "colab": {
          "base_uri": "https://localhost:8080/"
        },
        "id": "wTjBnZapEOhv",
        "outputId": "45b878fe-246e-4cf5-e546-0dbd1c4c4041"
      },
      "execution_count": null,
      "outputs": [
        {
          "output_type": "execute_result",
          "data": {
            "text/plain": [
              "(Counter({'a': 2, 'b': 1}), Counter({'b': 1, 'c': 1}))"
            ]
          },
          "metadata": {},
          "execution_count": 54
        }
      ]
    },
    {
      "cell_type": "markdown",
      "source": [
        "You can also add values from other collections in bulk using `update()`"
      ],
      "metadata": {
        "id": "ipD0k-nsETa_"
      }
    },
    {
      "cell_type": "code",
      "source": [
        "third.update(['a', 'b', 'c'])\n",
        "third"
      ],
      "metadata": {
        "colab": {
          "base_uri": "https://localhost:8080/"
        },
        "id": "nXXRgaZoEfHe",
        "outputId": "80c075ab-a1f1-468d-cd2b-a83dad9d6ca5"
      },
      "execution_count": null,
      "outputs": [
        {
          "output_type": "execute_result",
          "data": {
            "text/plain": [
              "Counter({'a': 2, 'b': 2, 'c': 1})"
            ]
          },
          "metadata": {},
          "execution_count": 55
        }
      ]
    },
    {
      "cell_type": "markdown",
      "source": [
        "You can query Counters for the `most_common()` values, sorted in descending order."
      ],
      "metadata": {
        "id": "rhkc_auNEowp"
      }
    },
    {
      "cell_type": "code",
      "source": [
        "third.most_common()"
      ],
      "metadata": {
        "colab": {
          "base_uri": "https://localhost:8080/"
        },
        "id": "XTSQSdHrEvOQ",
        "outputId": "925b6ed0-db9c-45b8-f046-aca0b549778f"
      },
      "execution_count": null,
      "outputs": [
        {
          "output_type": "execute_result",
          "data": {
            "text/plain": [
              "[('a', 2), ('b', 2), ('c', 1)]"
            ]
          },
          "metadata": {},
          "execution_count": 56
        }
      ]
    },
    {
      "cell_type": "markdown",
      "source": [
        "Or limit yourself to a few of them\n"
      ],
      "metadata": {
        "id": "e1Vo725AEurV"
      }
    },
    {
      "cell_type": "code",
      "source": [
        "third.most_common(2)"
      ],
      "metadata": {
        "colab": {
          "base_uri": "https://localhost:8080/"
        },
        "id": "3jAiaNU8E4ko",
        "outputId": "6f2a8ae2-166e-43fd-b7e0-c6337e298385"
      },
      "execution_count": null,
      "outputs": [
        {
          "output_type": "execute_result",
          "data": {
            "text/plain": [
              "[('a', 2), ('b', 2)]"
            ]
          },
          "metadata": {},
          "execution_count": 57
        }
      ]
    },
    {
      "cell_type": "markdown",
      "source": [
        "### NamedTuple\n",
        "\n",
        "You will often find yourself passing data around in python using `tuples` rather than writing a complete class. This can get very confusing very quickly. While you may not want to write a whole class, you may want to reference elements in your tuple by name."
      ],
      "metadata": {
        "id": "o8yhweVwv68A"
      }
    },
    {
      "cell_type": "code",
      "source": [
        "from collections import namedtuple\n",
        "\n",
        "# Define your namedtuple\n",
        "Point = namedtuple('Point', ['x', 'y']) \n",
        "\n",
        "# create a new Point\n",
        "p = Point(1,2)\n",
        "\n",
        "# access elements of the Point by index or name\n",
        "print(p[0] == p.x)"
      ],
      "metadata": {
        "colab": {
          "base_uri": "https://localhost:8080/"
        },
        "id": "WvnLTby0v9jE",
        "outputId": "eed60665-9f96-417d-d2ed-92af20b18556"
      },
      "execution_count": null,
      "outputs": [
        {
          "output_type": "stream",
          "name": "stdout",
          "text": [
            "True\n"
          ]
        }
      ]
    },
    {
      "cell_type": "code",
      "source": [
        "# namedtuples also have sane string representations\n",
        "print(p)"
      ],
      "metadata": {
        "colab": {
          "base_uri": "https://localhost:8080/"
        },
        "id": "l0mwcm2ZG45Y",
        "outputId": "5d85fff3-3e13-4b7a-f76a-ec3c8179a106"
      },
      "execution_count": null,
      "outputs": [
        {
          "output_type": "stream",
          "name": "stdout",
          "text": [
            "Point(x=1, y=2)\n"
          ]
        }
      ]
    },
    {
      "cell_type": "markdown",
      "source": [
        "One advantage of `namedtuple` over classes is that you can still use unpacking to split up the elements of your `namedtuple`."
      ],
      "metadata": {
        "id": "eXcOJKC0F_Jz"
      }
    },
    {
      "cell_type": "code",
      "source": [
        "x, y = p\n",
        "print(f'({x}, {y}) <-> {p}')"
      ],
      "metadata": {
        "colab": {
          "base_uri": "https://localhost:8080/"
        },
        "id": "esMng-CXF99Z",
        "outputId": "8d6702aa-d8aa-4783-e510-f21d8ed9bb49"
      },
      "execution_count": null,
      "outputs": [
        {
          "output_type": "stream",
          "name": "stdout",
          "text": [
            "(1, 2) <-> Point(x=1, y=2)\n"
          ]
        }
      ]
    },
    {
      "cell_type": "markdown",
      "source": [
        "A `namedtuple` can be directly compared to a regular `tuple` and is equal if it has the same values in the same order."
      ],
      "metadata": {
        "id": "0jixVS0IHHuS"
      }
    },
    {
      "cell_type": "code",
      "source": [
        "print((1,2) == p)"
      ],
      "metadata": {
        "colab": {
          "base_uri": "https://localhost:8080/"
        },
        "id": "C3Ve8QISHBse",
        "outputId": "1a5027aa-44ea-4938-f969-7611d5d83691"
      },
      "execution_count": null,
      "outputs": [
        {
          "output_type": "stream",
          "name": "stdout",
          "text": [
            "True\n"
          ]
        }
      ]
    },
    {
      "cell_type": "markdown",
      "source": [
        "# max, min, sort, sum"
      ],
      "metadata": {
        "id": "96YYsiq1frya"
      }
    },
    {
      "cell_type": "markdown",
      "source": [
        "## max and min\n",
        "\n",
        "The functions `max()` and `min()` can run on any iterable value. When the elements have a natural ordering function, `max()` and `min()` automatically return the expected values."
      ],
      "metadata": {
        "id": "f1Mda7n3qUSa"
      }
    },
    {
      "cell_type": "code",
      "source": [
        "max([1,23,94,2])"
      ],
      "metadata": {
        "colab": {
          "base_uri": "https://localhost:8080/"
        },
        "id": "4LLSkZ8odcs7",
        "outputId": "665f8d83-a955-4ce3-f8b6-c86d024584d8"
      },
      "execution_count": null,
      "outputs": [
        {
          "output_type": "execute_result",
          "data": {
            "text/plain": [
              "94"
            ]
          },
          "metadata": {},
          "execution_count": 62
        }
      ]
    },
    {
      "cell_type": "code",
      "source": [
        "min([1,23,94,2])"
      ],
      "metadata": {
        "colab": {
          "base_uri": "https://localhost:8080/"
        },
        "id": "jVmAn3WkdfX_",
        "outputId": "0d53506e-3bf2-417d-9767-7c28bb17e7ce"
      },
      "execution_count": null,
      "outputs": [
        {
          "output_type": "execute_result",
          "data": {
            "text/plain": [
              "1"
            ]
          },
          "metadata": {},
          "execution_count": 63
        }
      ]
    },
    {
      "cell_type": "markdown",
      "source": [
        "However, some types (e.g. non-scalar types such as `list` or `dict`) have natural ordering functions. In addition, there are situations where you may wish to maximize or minimize by a different condition. In these situations, you can use the `key` argument. The `key` argument takes a function of one argument and returns an orderable value."
      ],
      "metadata": {
        "id": "cmhk-U9kdkMO"
      }
    },
    {
      "cell_type": "code",
      "source": [
        "names = [\"Alfred\", \"Margaret\", \"Dipika\"]\n",
        "\n",
        "# since len is already a function of one argument, we can pass it in directly\n",
        "max(names, key=len) "
      ],
      "metadata": {
        "colab": {
          "base_uri": "https://localhost:8080/",
          "height": 37
        },
        "id": "hc8AxhgMebKK",
        "outputId": "575f4a29-d1dd-4e31-a756-ec2d126b37c5"
      },
      "execution_count": null,
      "outputs": [
        {
          "output_type": "execute_result",
          "data": {
            "application/vnd.google.colaboratory.intrinsic+json": {
              "type": "string"
            },
            "text/plain": [
              "'Margaret'"
            ]
          },
          "metadata": {},
          "execution_count": 64
        }
      ]
    },
    {
      "cell_type": "code",
      "source": [
        "# but lambdas are great for this purpose\n",
        "max(names, key=lambda x: len(x))"
      ],
      "metadata": {
        "colab": {
          "base_uri": "https://localhost:8080/",
          "height": 37
        },
        "id": "8fUrrF_ZeAgw",
        "outputId": "483210b3-8ae2-4211-b723-3759f050661d"
      },
      "execution_count": null,
      "outputs": [
        {
          "output_type": "execute_result",
          "data": {
            "application/vnd.google.colaboratory.intrinsic+json": {
              "type": "string"
            },
            "text/plain": [
              "'Margaret'"
            ]
          },
          "metadata": {},
          "execution_count": 65
        }
      ]
    },
    {
      "cell_type": "markdown",
      "source": [
        "## Sorting\n",
        "\n",
        "Sorting works much the same way. There are two primary ways to sort.**bold text**"
      ],
      "metadata": {
        "id": "26HVFwULetNB"
      }
    },
    {
      "cell_type": "code",
      "source": [
        "# Will return a sorted copy of the list\n",
        "sorted(names) # The default sort for strings is alphabetic"
      ],
      "metadata": {
        "colab": {
          "base_uri": "https://localhost:8080/"
        },
        "id": "QYd3CJX4e0j8",
        "outputId": "70a47be8-6e1e-40a5-fb10-24edccc36158"
      },
      "execution_count": null,
      "outputs": [
        {
          "output_type": "execute_result",
          "data": {
            "text/plain": [
              "['Alfred', 'Dipika', 'Margaret']"
            ]
          },
          "metadata": {},
          "execution_count": 66
        }
      ]
    },
    {
      "cell_type": "code",
      "source": [
        "# will sort the list in place\n",
        "names.sort(key=len)\n",
        "names"
      ],
      "metadata": {
        "colab": {
          "base_uri": "https://localhost:8080/"
        },
        "id": "NT8N8ruFfDdi",
        "outputId": "1ff66a31-ee72-4a02-e4ea-a926fcf41be8"
      },
      "execution_count": null,
      "outputs": [
        {
          "output_type": "execute_result",
          "data": {
            "text/plain": [
              "['Alfred', 'Dipika', 'Margaret']"
            ]
          },
          "metadata": {},
          "execution_count": 67
        }
      ]
    },
    {
      "cell_type": "markdown",
      "source": [
        "Note that the default sort is in ascending order. You can either provide a key to reverse the sort or call the `reversed()` or `.reverse()` function."
      ],
      "metadata": {
        "id": "BA_zxtFufPZm"
      }
    },
    {
      "cell_type": "markdown",
      "source": [
        "## Sum and join\n",
        "\n",
        "`sum()` takes the elements of a collection and adds them together."
      ],
      "metadata": {
        "id": "-MM5j7UYfj5F"
      }
    },
    {
      "cell_type": "code",
      "source": [
        "sum([1,2,3,4,5])"
      ],
      "metadata": {
        "colab": {
          "base_uri": "https://localhost:8080/"
        },
        "id": "iUjcfgALffRF",
        "outputId": "8c442246-1725-4f08-f744-3223abc70fad"
      },
      "execution_count": null,
      "outputs": [
        {
          "output_type": "execute_result",
          "data": {
            "text/plain": [
              "15"
            ]
          },
          "metadata": {},
          "execution_count": 68
        }
      ]
    },
    {
      "cell_type": "markdown",
      "source": [
        "The `+` operator has different meanings for different lists. For example:"
      ],
      "metadata": {
        "id": "kJ5iKKFUf6fM"
      }
    },
    {
      "cell_type": "code",
      "source": [
        "sum([[1], [2]], []) # the second argument tells sum which starting value to use"
      ],
      "metadata": {
        "colab": {
          "base_uri": "https://localhost:8080/"
        },
        "id": "OVJ4nAx9gA6m",
        "outputId": "ec64fdcd-e4d9-4587-883c-c7f77591c632"
      },
      "execution_count": null,
      "outputs": [
        {
          "output_type": "execute_result",
          "data": {
            "text/plain": [
              "[1, 2]"
            ]
          },
          "metadata": {},
          "execution_count": 69
        }
      ]
    },
    {
      "cell_type": "markdown",
      "source": [
        "`sum()` doesn't work for strings. Instead, we have `.join()` for strings. `.join()` is a function called on a string. If you call `a.join(b)`, the elements of `b` are put together into a single string separated by instances of `a`."
      ],
      "metadata": {
        "id": "byYcDfFzgaPM"
      }
    },
    {
      "cell_type": "code",
      "source": [
        "\", \".join(names)"
      ],
      "metadata": {
        "colab": {
          "base_uri": "https://localhost:8080/",
          "height": 37
        },
        "id": "40CL1zKvgZnI",
        "outputId": "121e0324-d8de-4fe0-a55f-aa79a453d68b"
      },
      "execution_count": null,
      "outputs": [
        {
          "output_type": "execute_result",
          "data": {
            "application/vnd.google.colaboratory.intrinsic+json": {
              "type": "string"
            },
            "text/plain": [
              "'Alfred, Dipika, Margaret'"
            ]
          },
          "metadata": {},
          "execution_count": 70
        }
      ]
    },
    {
      "cell_type": "markdown",
      "source": [
        "# Forms and Progress bars"
      ],
      "metadata": {
        "id": "ccoZnZDJqxsA"
      }
    },
    {
      "cell_type": "code",
      "source": [
        "#@title Example form fields\n",
        "#@markdown Forms support many types of fields.\n",
        "\n",
        "no_type_checking = ''  #@param\n",
        "string_type = 'example'  #@param {type: \"string\"}\n",
        "slider_value = 131  #@param {type: \"slider\", min: 100, max: 200}\n",
        "number = 102  #@param {type: \"number\"}\n",
        "date = '2010-11-20'  #@param {type: \"date\"}\n",
        "pick_me = \"monday\"  #@param ['monday', 'tuesday', 'wednesday', 'thursday']\n",
        "select_or_input = \"apples\" #@param [\"apples\", \"bananas\", \"oranges\"] {allow-input: true}\n",
        "#@markdown ---\n",
        "#@markdown these values can be used in code\n",
        "#@markdown\n",
        "#@markdown If the value is changed in the form, it overrides the value in the code cell\n",
        "\n",
        "print(date)"
      ],
      "metadata": {
        "colab": {
          "base_uri": "https://localhost:8080/"
        },
        "id": "VyoR4hK5hFZ7",
        "outputId": "fb569f35-57d3-4f24-ed87-8dc37c72a9f1"
      },
      "execution_count": null,
      "outputs": [
        {
          "output_type": "stream",
          "name": "stdout",
          "text": [
            "2010-11-20\n"
          ]
        }
      ]
    },
    {
      "cell_type": "code",
      "source": [
        "# You can easily create a progress bar using tqdm\n",
        "from time import sleep\n",
        "from tqdm.notebook import tqdm\n",
        "\n",
        "for i in tqdm([1,2,3,4,5]):\n",
        "  print(i)\n",
        "  sleep(1)"
      ],
      "metadata": {
        "colab": {
          "base_uri": "https://localhost:8080/",
          "height": 134,
          "referenced_widgets": [
            "8697628d79f34eab9d0dbcf2be149689",
            "5b6bfefbdf0042529f9366ca59dbf8a7",
            "2893ba1bca14420dad5b51f22c71713f",
            "63e0564b0bd046e98464861f462bef2d",
            "74aa7bc121474c338fe58f3681737958",
            "08bb65fc13a74dd68a16662116093b75",
            "95c9569f273d4d8fb731adc67b52b8dd",
            "b8a268fc84e14369bfc5312330de9a4a",
            "23495d126d9145d28e4e6539a73aba04",
            "7a85b431f0f040499be87da21ead7e58",
            "134e9f9069b241d0bf689fc17fc94882"
          ]
        },
        "id": "ccCwr1jdnIPp",
        "outputId": "9eefd830-4e0d-42c4-ee8d-0210100b0952"
      },
      "execution_count": null,
      "outputs": [
        {
          "output_type": "display_data",
          "data": {
            "application/vnd.jupyter.widget-view+json": {
              "model_id": "8697628d79f34eab9d0dbcf2be149689",
              "version_minor": 0,
              "version_major": 2
            },
            "text/plain": [
              "  0%|          | 0/5 [00:00<?, ?it/s]"
            ]
          },
          "metadata": {}
        },
        {
          "output_type": "stream",
          "name": "stdout",
          "text": [
            "1\n",
            "2\n",
            "3\n",
            "4\n",
            "5\n"
          ]
        }
      ]
    }
  ]
}